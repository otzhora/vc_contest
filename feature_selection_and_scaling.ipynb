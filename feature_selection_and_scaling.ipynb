{
 "cells": [
  {
   "cell_type": "code",
   "execution_count": 17,
   "metadata": {},
   "outputs": [],
   "source": [
    "import pandas as pd\n",
    "import numpy as np\n",
    "from sklearn.feature_selection import SelectFromModel\n",
    "from sklearn.linear_model import LassoCV\n",
    "from sklearn.model_selection import GridSearchCV\n",
    "from sklearn.preprocessing import RobustScaler\n",
    "from keras import backend as K\n",
    "from keras.models import Sequential\n",
    "from keras.layers import Dense, InputLayer\n",
    "from keras.wrappers.scikit_learn import KerasRegressor\n",
    "\n",
    "from managing_utils import *"
   ]
  },
  {
   "cell_type": "code",
   "execution_count": 85,
   "metadata": {},
   "outputs": [],
   "source": [
    "train = pd.read_csv('./robot_data/train_data.csv')\n",
    "test = pd.read_csv('./robot_data/test_data.csv')\n",
    "\n",
    "num_train = len(train)"
   ]
  },
  {
   "cell_type": "code",
   "execution_count": 86,
   "metadata": {},
   "outputs": [],
   "source": [
    "year_test = test['year']"
   ]
  },
  {
   "cell_type": "code",
   "execution_count": 87,
   "metadata": {},
   "outputs": [],
   "source": [
    "train = train.sample(frac=1).reset_index(drop=True)"
   ]
  },
  {
   "cell_type": "code",
   "execution_count": 88,
   "metadata": {},
   "outputs": [],
   "source": [
    "y_train = train['target']"
   ]
  },
  {
   "cell_type": "code",
   "execution_count": 89,
   "metadata": {},
   "outputs": [],
   "source": [
    "test = test.drop(columns=['year', 'target'])\n",
    "train = train.drop(columns=['year', 'target'])"
   ]
  },
  {
   "cell_type": "code",
   "execution_count": 90,
   "metadata": {},
   "outputs": [],
   "source": [
    "train = simple_encode(train.copy())\n",
    "test = simple_encode(test.copy())"
   ]
  },
  {
   "cell_type": "code",
   "execution_count": 91,
   "metadata": {},
   "outputs": [],
   "source": [
    "df_all = pd.concat([train, test])"
   ]
  },
  {
   "cell_type": "code",
   "execution_count": 92,
   "metadata": {},
   "outputs": [
    {
     "data": {
      "text/html": [
       "<div>\n",
       "<style scoped>\n",
       "    .dataframe tbody tr th:only-of-type {\n",
       "        vertical-align: middle;\n",
       "    }\n",
       "\n",
       "    .dataframe tbody tr th {\n",
       "        vertical-align: top;\n",
       "    }\n",
       "\n",
       "    .dataframe thead th {\n",
       "        text-align: right;\n",
       "    }\n",
       "</style>\n",
       "<table border=\"1\" class=\"dataframe\">\n",
       "  <thead>\n",
       "    <tr style=\"text-align: right;\">\n",
       "      <th></th>\n",
       "      <th>robot_gear_compression_diff_1</th>\n",
       "      <th>weapon_robot_armour_index_2</th>\n",
       "      <th>robot_gear_compression_diff_3</th>\n",
       "      <th>robot_gear_compression_diff_4</th>\n",
       "      <th>weapon_robot_punch_right_1</th>\n",
       "      <th>robot_gear_compression_diff_6</th>\n",
       "      <th>robot_gear_compression_diff_7</th>\n",
       "      <th>robot_gear_compression_diff_8</th>\n",
       "      <th>robot_gear_compression_diff_9</th>\n",
       "      <th>robot_gear_compression_diff_10</th>\n",
       "      <th>...</th>\n",
       "      <th>weapon_robot_eye_laser_sensor_4</th>\n",
       "      <th>robot_probe_temperature_5</th>\n",
       "      <th>robot_probe_temperature_6</th>\n",
       "      <th>robot_probe_temperature_7</th>\n",
       "      <th>robot_probe_temperature_8</th>\n",
       "      <th>robot_probe_temperature_9</th>\n",
       "      <th>weapon_robot_eye_laser_range_1</th>\n",
       "      <th>weapon_robot_punch_left_4</th>\n",
       "      <th>weapon_robot_punch_left_2</th>\n",
       "      <th>gamma_ray</th>\n",
       "    </tr>\n",
       "  </thead>\n",
       "  <tbody>\n",
       "    <tr>\n",
       "      <th>0</th>\n",
       "      <td>-1.535539</td>\n",
       "      <td>-1.853120</td>\n",
       "      <td>-0.386286</td>\n",
       "      <td>15.337403</td>\n",
       "      <td>-6.841122</td>\n",
       "      <td>-2.833555</td>\n",
       "      <td>-6.874889</td>\n",
       "      <td>-5.741406</td>\n",
       "      <td>18.481229</td>\n",
       "      <td>-6.248703</td>\n",
       "      <td>...</td>\n",
       "      <td>0.813811</td>\n",
       "      <td>5.023002</td>\n",
       "      <td>5.236148</td>\n",
       "      <td>-0.561166</td>\n",
       "      <td>2.946505</td>\n",
       "      <td>1.358670</td>\n",
       "      <td>1.173954</td>\n",
       "      <td>5.531442</td>\n",
       "      <td>-6.356840</td>\n",
       "      <td>0.75</td>\n",
       "    </tr>\n",
       "    <tr>\n",
       "      <th>1</th>\n",
       "      <td>14.948409</td>\n",
       "      <td>14.917733</td>\n",
       "      <td>16.049968</td>\n",
       "      <td>17.242078</td>\n",
       "      <td>18.633408</td>\n",
       "      <td>11.171869</td>\n",
       "      <td>16.518522</td>\n",
       "      <td>13.288183</td>\n",
       "      <td>-14.432651</td>\n",
       "      <td>17.926551</td>\n",
       "      <td>...</td>\n",
       "      <td>0.528241</td>\n",
       "      <td>7.851436</td>\n",
       "      <td>2.820153</td>\n",
       "      <td>-0.528179</td>\n",
       "      <td>3.099115</td>\n",
       "      <td>2.608178</td>\n",
       "      <td>1.862051</td>\n",
       "      <td>-10.015326</td>\n",
       "      <td>-89.095390</td>\n",
       "      <td>0.50</td>\n",
       "    </tr>\n",
       "    <tr>\n",
       "      <th>2</th>\n",
       "      <td>-12.501167</td>\n",
       "      <td>-13.729290</td>\n",
       "      <td>-13.163379</td>\n",
       "      <td>-6.148563</td>\n",
       "      <td>3.606355</td>\n",
       "      <td>-8.416955</td>\n",
       "      <td>-14.738310</td>\n",
       "      <td>-13.636401</td>\n",
       "      <td>20.852301</td>\n",
       "      <td>-22.842443</td>\n",
       "      <td>...</td>\n",
       "      <td>0.813811</td>\n",
       "      <td>8.584943</td>\n",
       "      <td>3.632918</td>\n",
       "      <td>2.358821</td>\n",
       "      <td>3.117590</td>\n",
       "      <td>1.777423</td>\n",
       "      <td>1.496122</td>\n",
       "      <td>3.991699</td>\n",
       "      <td>-11.507710</td>\n",
       "      <td>0.75</td>\n",
       "    </tr>\n",
       "    <tr>\n",
       "      <th>3</th>\n",
       "      <td>12.250339</td>\n",
       "      <td>11.463944</td>\n",
       "      <td>15.310750</td>\n",
       "      <td>41.136878</td>\n",
       "      <td>16.249233</td>\n",
       "      <td>11.594227</td>\n",
       "      <td>17.027518</td>\n",
       "      <td>18.362356</td>\n",
       "      <td>46.516629</td>\n",
       "      <td>18.386935</td>\n",
       "      <td>...</td>\n",
       "      <td>0.813811</td>\n",
       "      <td>7.087089</td>\n",
       "      <td>6.010736</td>\n",
       "      <td>1.685909</td>\n",
       "      <td>3.312646</td>\n",
       "      <td>2.181635</td>\n",
       "      <td>1.899507</td>\n",
       "      <td>-3.439233</td>\n",
       "      <td>-14.840626</td>\n",
       "      <td>0.50</td>\n",
       "    </tr>\n",
       "    <tr>\n",
       "      <th>4</th>\n",
       "      <td>-4.141261</td>\n",
       "      <td>-5.294652</td>\n",
       "      <td>-2.738368</td>\n",
       "      <td>18.563424</td>\n",
       "      <td>-14.707739</td>\n",
       "      <td>-3.382031</td>\n",
       "      <td>-7.965869</td>\n",
       "      <td>-2.841373</td>\n",
       "      <td>41.201553</td>\n",
       "      <td>-10.566035</td>\n",
       "      <td>...</td>\n",
       "      <td>0.813811</td>\n",
       "      <td>4.681417</td>\n",
       "      <td>3.719504</td>\n",
       "      <td>3.185915</td>\n",
       "      <td>2.946785</td>\n",
       "      <td>2.473498</td>\n",
       "      <td>1.691893</td>\n",
       "      <td>5.330931</td>\n",
       "      <td>-5.664286</td>\n",
       "      <td>0.75</td>\n",
       "    </tr>\n",
       "  </tbody>\n",
       "</table>\n",
       "<p>5 rows × 144 columns</p>\n",
       "</div>"
      ],
      "text/plain": [
       "   robot_gear_compression_diff_1  weapon_robot_armour_index_2  \\\n",
       "0                      -1.535539                    -1.853120   \n",
       "1                      14.948409                    14.917733   \n",
       "2                     -12.501167                   -13.729290   \n",
       "3                      12.250339                    11.463944   \n",
       "4                      -4.141261                    -5.294652   \n",
       "\n",
       "   robot_gear_compression_diff_3  robot_gear_compression_diff_4  \\\n",
       "0                      -0.386286                      15.337403   \n",
       "1                      16.049968                      17.242078   \n",
       "2                     -13.163379                      -6.148563   \n",
       "3                      15.310750                      41.136878   \n",
       "4                      -2.738368                      18.563424   \n",
       "\n",
       "   weapon_robot_punch_right_1  robot_gear_compression_diff_6  \\\n",
       "0                   -6.841122                      -2.833555   \n",
       "1                   18.633408                      11.171869   \n",
       "2                    3.606355                      -8.416955   \n",
       "3                   16.249233                      11.594227   \n",
       "4                  -14.707739                      -3.382031   \n",
       "\n",
       "   robot_gear_compression_diff_7  robot_gear_compression_diff_8  \\\n",
       "0                      -6.874889                      -5.741406   \n",
       "1                      16.518522                      13.288183   \n",
       "2                     -14.738310                     -13.636401   \n",
       "3                      17.027518                      18.362356   \n",
       "4                      -7.965869                      -2.841373   \n",
       "\n",
       "   robot_gear_compression_diff_9  robot_gear_compression_diff_10    ...      \\\n",
       "0                      18.481229                       -6.248703    ...       \n",
       "1                     -14.432651                       17.926551    ...       \n",
       "2                      20.852301                      -22.842443    ...       \n",
       "3                      46.516629                       18.386935    ...       \n",
       "4                      41.201553                      -10.566035    ...       \n",
       "\n",
       "   weapon_robot_eye_laser_sensor_4  robot_probe_temperature_5  \\\n",
       "0                         0.813811                   5.023002   \n",
       "1                         0.528241                   7.851436   \n",
       "2                         0.813811                   8.584943   \n",
       "3                         0.813811                   7.087089   \n",
       "4                         0.813811                   4.681417   \n",
       "\n",
       "   robot_probe_temperature_6  robot_probe_temperature_7  \\\n",
       "0                   5.236148                  -0.561166   \n",
       "1                   2.820153                  -0.528179   \n",
       "2                   3.632918                   2.358821   \n",
       "3                   6.010736                   1.685909   \n",
       "4                   3.719504                   3.185915   \n",
       "\n",
       "   robot_probe_temperature_8  robot_probe_temperature_9  \\\n",
       "0                   2.946505                   1.358670   \n",
       "1                   3.099115                   2.608178   \n",
       "2                   3.117590                   1.777423   \n",
       "3                   3.312646                   2.181635   \n",
       "4                   2.946785                   2.473498   \n",
       "\n",
       "   weapon_robot_eye_laser_range_1  weapon_robot_punch_left_4  \\\n",
       "0                        1.173954                   5.531442   \n",
       "1                        1.862051                 -10.015326   \n",
       "2                        1.496122                   3.991699   \n",
       "3                        1.899507                  -3.439233   \n",
       "4                        1.691893                   5.330931   \n",
       "\n",
       "   weapon_robot_punch_left_2  gamma_ray  \n",
       "0                  -6.356840       0.75  \n",
       "1                 -89.095390       0.50  \n",
       "2                 -11.507710       0.75  \n",
       "3                 -14.840626       0.50  \n",
       "4                  -5.664286       0.75  \n",
       "\n",
       "[5 rows x 144 columns]"
      ]
     },
     "execution_count": 92,
     "metadata": {},
     "output_type": "execute_result"
    }
   ],
   "source": [
    "df_all.head()"
   ]
  },
  {
   "cell_type": "code",
   "execution_count": 93,
   "metadata": {},
   "outputs": [],
   "source": [
    "scaler = RobustScaler()\n",
    "\n",
    "df_all = scaler.fit_transform(df_all)"
   ]
  },
  {
   "cell_type": "code",
   "execution_count": 94,
   "metadata": {},
   "outputs": [],
   "source": [
    "train = df_all[:num_train]\n",
    "test = df_all[num_train:]"
   ]
  },
  {
   "cell_type": "code",
   "execution_count": 95,
   "metadata": {},
   "outputs": [
    {
     "name": "stderr",
     "output_type": "stream",
     "text": [
      "/Users/yra/miniconda3/envs/keras-jupyter/lib/python3.6/site-packages/sklearn/model_selection/_split.py:2053: FutureWarning: You should specify a value for 'cv' instead of relying on the default value. The default value will change from 3 to 5 in version 0.22.\n",
      "  warnings.warn(CV_WARNING, FutureWarning)\n"
     ]
    }
   ],
   "source": [
    "sfm = SelectFromModel(LassoCV())\n",
    "sfm.fit(train, y_train)\n",
    "train = sfm.transform(train)\n",
    "test = sfm.transform(test)"
   ]
  },
  {
   "cell_type": "code",
   "execution_count": 96,
   "metadata": {},
   "outputs": [
    {
     "data": {
      "text/plain": [
       "Index(['weapon_robot_punch_right_1', 'robot_gear_circulation_12',\n",
       "       'weapon_robot_gun_power_3', 'robot_gear_temperature_11',\n",
       "       'robotic_circuits_speed_12', 'robot_engine_speed_13',\n",
       "       'robot_engine_speed_15', 'robot_engine_circulation_6',\n",
       "       'robot_engine_circulation_7', 'robot_probe_circulation_6',\n",
       "       'robot_probe_circulation_7', 'robot_probe_temperature_8'],\n",
       "      dtype='object')"
      ]
     },
     "execution_count": 96,
     "metadata": {},
     "output_type": "execute_result"
    }
   ],
   "source": [
    "df = pd.read_csv('./robot_data/train_data.csv')\n",
    "df = df.drop(columns=['year', 'target'])\n",
    "feature_idx = sfm.get_support()\n",
    "feature_name = df.columns[feature_idx]\n",
    "feature_name"
   ]
  },
  {
   "cell_type": "code",
   "execution_count": 97,
   "metadata": {},
   "outputs": [
    {
     "data": {
      "text/plain": [
       "'Number of features: 12'"
      ]
     },
     "execution_count": 97,
     "metadata": {},
     "output_type": "execute_result"
    }
   ],
   "source": [
    "'Number of features: %d' % train.shape[1]"
   ]
  },
  {
   "cell_type": "code",
   "execution_count": 98,
   "metadata": {},
   "outputs": [],
   "source": [
    "def create_model(neurons=20):\n",
    "    model = Sequential()\n",
    "    model.add(InputLayer(input_shape=(train.shape[1],)))\n",
    "    model.add(Dense(neurons, activation='tanh'))\n",
    "    model.add(Dense(neurons, activation='tanh'))\n",
    "    model.add(Dense(neurons, activation='tanh'))\n",
    "    model.add(Dense(1, activation='linear'))\n",
    "    model.compile(loss='mean_squared_error', optimizer='nadam', metrics=[coeff_determination])\n",
    "    return model"
   ]
  },
  {
   "cell_type": "code",
   "execution_count": 73,
   "metadata": {},
   "outputs": [],
   "source": [
    "model = KerasRegressor(build_fn=create_model, epochs=75, verbose=0)"
   ]
  },
  {
   "cell_type": "code",
   "execution_count": 74,
   "metadata": {},
   "outputs": [],
   "source": [
    "gsc = GridSearchCV(\n",
    "    estimator=model,\n",
    "    param_grid={\n",
    "        'neurons': range(20, 80, 4)\n",
    "    },\n",
    "    scoring='neg_mean_squared_error',\n",
    "    cv=5\n",
    ")"
   ]
  },
  {
   "cell_type": "code",
   "execution_count": 75,
   "metadata": {},
   "outputs": [
    {
     "name": "stderr",
     "output_type": "stream",
     "text": [
      "/Users/yra/miniconda3/envs/keras-jupyter/lib/python3.6/site-packages/sklearn/model_selection/_search.py:841: DeprecationWarning: The default of the `iid` parameter will change from True to False in version 0.22 and will be removed in 0.24. This will change numeric results when test-set sizes are unequal.\n",
      "  DeprecationWarning)\n"
     ]
    }
   ],
   "source": [
    "grid_result = gsc.fit(train, y_train)"
   ]
  },
  {
   "cell_type": "code",
   "execution_count": 76,
   "metadata": {},
   "outputs": [
    {
     "data": {
      "text/plain": [
       "\"Best: -70.577451 using {'neurons': 68}\""
      ]
     },
     "execution_count": 76,
     "metadata": {},
     "output_type": "execute_result"
    }
   ],
   "source": [
    "\"Best: %f using %s\" % (grid_result.best_score_, grid_result.best_params_)"
   ]
  },
  {
   "cell_type": "code",
   "execution_count": 77,
   "metadata": {},
   "outputs": [
    {
     "name": "stdout",
     "output_type": "stream",
     "text": [
      "Train: -103.080701 (5.660198) // Test : -131.558517 (16.107492) with: {'neurons': 20}\n",
      "Train: -86.836912 (3.779908) // Test : -120.941684 (24.246797) with: {'neurons': 24}\n",
      "Train: -70.340725 (5.061097) // Test : -101.954682 (17.944758) with: {'neurons': 28}\n",
      "Train: -60.397982 (6.530301) // Test : -93.874045 (16.440557) with: {'neurons': 32}\n",
      "Train: -51.584305 (1.962680) // Test : -84.141915 (18.102621) with: {'neurons': 36}\n",
      "Train: -47.013261 (4.423008) // Test : -87.519279 (28.338121) with: {'neurons': 40}\n",
      "Train: -41.354478 (2.382907) // Test : -86.649531 (21.989518) with: {'neurons': 44}\n",
      "Train: -37.867747 (1.732104) // Test : -78.352130 (28.353550) with: {'neurons': 48}\n",
      "Train: -38.528453 (5.611626) // Test : -86.148180 (27.219925) with: {'neurons': 52}\n",
      "Train: -34.632422 (4.769129) // Test : -74.180238 (27.190082) with: {'neurons': 56}\n",
      "Train: -35.686812 (11.688889) // Test : -72.775210 (31.389504) with: {'neurons': 60}\n",
      "Train: -37.867366 (14.382463) // Test : -92.374571 (30.146171) with: {'neurons': 64}\n",
      "Train: -31.231609 (2.634204) // Test : -70.577451 (25.731150) with: {'neurons': 68}\n",
      "Train: -29.056876 (3.265765) // Test : -73.580207 (14.365389) with: {'neurons': 72}\n",
      "Train: -27.318371 (2.783720) // Test : -84.580145 (27.255590) with: {'neurons': 76}\n"
     ]
    },
    {
     "name": "stderr",
     "output_type": "stream",
     "text": [
      "/Users/yra/miniconda3/envs/keras-jupyter/lib/python3.6/site-packages/sklearn/utils/deprecation.py:125: FutureWarning: You are accessing a training score ('mean_train_score'), which will not be available by default any more in 0.21. If you need training scores, please set return_train_score=True\n",
      "  warnings.warn(*warn_args, **warn_kwargs)\n",
      "/Users/yra/miniconda3/envs/keras-jupyter/lib/python3.6/site-packages/sklearn/utils/deprecation.py:125: FutureWarning: You are accessing a training score ('std_train_score'), which will not be available by default any more in 0.21. If you need training scores, please set return_train_score=True\n",
      "  warnings.warn(*warn_args, **warn_kwargs)\n"
     ]
    }
   ],
   "source": [
    "for test_mean, test_stdev, train_mean, train_stdev, param in zip(\n",
    "        grid_result.cv_results_['mean_test_score'],\n",
    "        grid_result.cv_results_['std_test_score'],\n",
    "        grid_result.cv_results_['mean_train_score'],\n",
    "        grid_result.cv_results_['std_train_score'],\n",
    "        grid_result.cv_results_['params']):\n",
    "    print(\"Train: %f (%f) // Test : %f (%f) with: %r\" % (train_mean, train_stdev, test_mean, test_stdev, param))\n",
    "    "
   ]
  },
  {
   "cell_type": "code",
   "execution_count": 99,
   "metadata": {},
   "outputs": [],
   "source": [
    "model = create_model(**grid_result.best_params_)"
   ]
  },
  {
   "cell_type": "code",
   "execution_count": null,
   "metadata": {
    "scrolled": false
   },
   "outputs": [],
   "source": [
    "model.fit(train, y_train, epochs=75, verbose=2)"
   ]
  },
  {
   "cell_type": "code",
   "execution_count": 101,
   "metadata": {},
   "outputs": [],
   "source": [
    "y_test = model.predict(test).flatten()"
   ]
  },
  {
   "cell_type": "code",
   "execution_count": 102,
   "metadata": {},
   "outputs": [],
   "source": [
    "df_sub = pd.DataFrame({'year': year_test, 'target': y_test})\n",
    "df_sub.to_csv('./submissions/subm_lasso_02.csv', index=False)"
   ]
  },
  {
   "cell_type": "code",
   "execution_count": null,
   "metadata": {},
   "outputs": [],
   "source": []
  }
 ],
 "metadata": {
  "kernelspec": {
   "display_name": "Python 3",
   "language": "python",
   "name": "python3"
  },
  "language_info": {
   "codemirror_mode": {
    "name": "ipython",
    "version": 3
   },
   "file_extension": ".py",
   "mimetype": "text/x-python",
   "name": "python",
   "nbconvert_exporter": "python",
   "pygments_lexer": "ipython3",
   "version": "3.6.6"
  }
 },
 "nbformat": 4,
 "nbformat_minor": 2
}

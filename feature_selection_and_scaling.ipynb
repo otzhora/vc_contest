{
 "cells": [
  {
   "cell_type": "code",
   "execution_count": 1,
   "metadata": {},
   "outputs": [
    {
     "name": "stderr",
     "output_type": "stream",
     "text": [
      "Using TensorFlow backend.\n"
     ]
    }
   ],
   "source": [
    "import pandas as pd\n",
    "import numpy as np\n",
    "from sklearn.feature_selection import SelectFromModel\n",
    "from sklearn.linear_model import LassoCV\n",
    "from sklearn.model_selection import GridSearchCV\n",
    "from sklearn.preprocessing import RobustScaler\n",
    "from keras import backend as K\n",
    "from keras.models import Sequential\n",
    "from keras.layers import Dense, InputLayer\n",
    "from keras.wrappers.scikit_learn import KerasRegressor\n",
    "\n",
    "from managing_utils import *"
   ]
  },
  {
   "cell_type": "code",
   "execution_count": 61,
   "metadata": {},
   "outputs": [],
   "source": [
    "train = pd.read_csv('./robot_data/train_data.csv')\n",
    "test = pd.read_csv('./robot_data/test_data.csv')\n",
    "\n",
    "num_train = len(train)"
   ]
  },
  {
   "cell_type": "code",
   "execution_count": 62,
   "metadata": {},
   "outputs": [],
   "source": [
    "year_test = test['year']"
   ]
  },
  {
   "cell_type": "code",
   "execution_count": 63,
   "metadata": {},
   "outputs": [],
   "source": [
    "train = train.sample(frac=1).reset_index(drop=True)"
   ]
  },
  {
   "cell_type": "code",
   "execution_count": 64,
   "metadata": {},
   "outputs": [],
   "source": [
    "y_train = train['target']"
   ]
  },
  {
   "cell_type": "code",
   "execution_count": 65,
   "metadata": {},
   "outputs": [],
   "source": [
    "test = test.drop(columns=['year', 'target'])\n",
    "train = train.drop(columns=['year', 'target'])"
   ]
  },
  {
   "cell_type": "code",
   "execution_count": 66,
   "metadata": {},
   "outputs": [],
   "source": [
    "train = simple_encode(train.copy())\n",
    "test = simple_encode(test.copy())"
   ]
  },
  {
   "cell_type": "code",
   "execution_count": 67,
   "metadata": {},
   "outputs": [],
   "source": [
    "df_all = pd.concat([train, test])"
   ]
  },
  {
   "cell_type": "code",
   "execution_count": 68,
   "metadata": {},
   "outputs": [
    {
     "data": {
      "text/html": [
       "<div>\n",
       "<style scoped>\n",
       "    .dataframe tbody tr th:only-of-type {\n",
       "        vertical-align: middle;\n",
       "    }\n",
       "\n",
       "    .dataframe tbody tr th {\n",
       "        vertical-align: top;\n",
       "    }\n",
       "\n",
       "    .dataframe thead th {\n",
       "        text-align: right;\n",
       "    }\n",
       "</style>\n",
       "<table border=\"1\" class=\"dataframe\">\n",
       "  <thead>\n",
       "    <tr style=\"text-align: right;\">\n",
       "      <th></th>\n",
       "      <th>robot_gear_compression_diff_1</th>\n",
       "      <th>weapon_robot_armour_index_2</th>\n",
       "      <th>robot_gear_compression_diff_3</th>\n",
       "      <th>robot_gear_compression_diff_4</th>\n",
       "      <th>weapon_robot_punch_right_1</th>\n",
       "      <th>robot_gear_compression_diff_6</th>\n",
       "      <th>robot_gear_compression_diff_7</th>\n",
       "      <th>robot_gear_compression_diff_8</th>\n",
       "      <th>robot_gear_compression_diff_9</th>\n",
       "      <th>robot_gear_compression_diff_10</th>\n",
       "      <th>...</th>\n",
       "      <th>weapon_robot_eye_laser_sensor_4</th>\n",
       "      <th>robot_probe_temperature_5</th>\n",
       "      <th>robot_probe_temperature_6</th>\n",
       "      <th>robot_probe_temperature_7</th>\n",
       "      <th>robot_probe_temperature_8</th>\n",
       "      <th>robot_probe_temperature_9</th>\n",
       "      <th>weapon_robot_eye_laser_range_1</th>\n",
       "      <th>weapon_robot_punch_left_4</th>\n",
       "      <th>weapon_robot_punch_left_2</th>\n",
       "      <th>gamma_ray</th>\n",
       "    </tr>\n",
       "  </thead>\n",
       "  <tbody>\n",
       "    <tr>\n",
       "      <th>0</th>\n",
       "      <td>14.778640</td>\n",
       "      <td>15.137062</td>\n",
       "      <td>16.059129</td>\n",
       "      <td>9.700867</td>\n",
       "      <td>17.306024</td>\n",
       "      <td>11.575922</td>\n",
       "      <td>19.362588</td>\n",
       "      <td>13.624536</td>\n",
       "      <td>-15.913761</td>\n",
       "      <td>21.324387</td>\n",
       "      <td>...</td>\n",
       "      <td>0.385419</td>\n",
       "      <td>-9.609263</td>\n",
       "      <td>-6.156877</td>\n",
       "      <td>2.542281</td>\n",
       "      <td>3.088324</td>\n",
       "      <td>1.286310</td>\n",
       "      <td>1.110370</td>\n",
       "      <td>-3.019102</td>\n",
       "      <td>-27.090173</td>\n",
       "      <td>0.25</td>\n",
       "    </tr>\n",
       "    <tr>\n",
       "      <th>1</th>\n",
       "      <td>3.630786</td>\n",
       "      <td>3.177740</td>\n",
       "      <td>1.912224</td>\n",
       "      <td>-1.527513</td>\n",
       "      <td>-5.789436</td>\n",
       "      <td>3.889655</td>\n",
       "      <td>3.070223</td>\n",
       "      <td>2.172617</td>\n",
       "      <td>-18.060239</td>\n",
       "      <td>-0.793423</td>\n",
       "      <td>...</td>\n",
       "      <td>0.385419</td>\n",
       "      <td>7.646213</td>\n",
       "      <td>4.227676</td>\n",
       "      <td>1.160998</td>\n",
       "      <td>2.992417</td>\n",
       "      <td>0.683194</td>\n",
       "      <td>0.740192</td>\n",
       "      <td>-0.647793</td>\n",
       "      <td>-3.946220</td>\n",
       "      <td>0.50</td>\n",
       "    </tr>\n",
       "    <tr>\n",
       "      <th>2</th>\n",
       "      <td>-18.021881</td>\n",
       "      <td>-17.889957</td>\n",
       "      <td>-30.008182</td>\n",
       "      <td>-86.361924</td>\n",
       "      <td>-47.201019</td>\n",
       "      <td>-15.785587</td>\n",
       "      <td>-27.947707</td>\n",
       "      <td>-25.795492</td>\n",
       "      <td>-97.607635</td>\n",
       "      <td>-34.821692</td>\n",
       "      <td>...</td>\n",
       "      <td>0.385419</td>\n",
       "      <td>7.341760</td>\n",
       "      <td>1.817519</td>\n",
       "      <td>1.612755</td>\n",
       "      <td>2.945107</td>\n",
       "      <td>1.738819</td>\n",
       "      <td>1.512082</td>\n",
       "      <td>-0.647793</td>\n",
       "      <td>-34.318704</td>\n",
       "      <td>0.50</td>\n",
       "    </tr>\n",
       "    <tr>\n",
       "      <th>3</th>\n",
       "      <td>-9.425478</td>\n",
       "      <td>-10.598927</td>\n",
       "      <td>-9.973356</td>\n",
       "      <td>-2.208846</td>\n",
       "      <td>-22.276067</td>\n",
       "      <td>-7.360231</td>\n",
       "      <td>-14.095744</td>\n",
       "      <td>-7.314123</td>\n",
       "      <td>16.365859</td>\n",
       "      <td>-21.135145</td>\n",
       "      <td>...</td>\n",
       "      <td>0.528241</td>\n",
       "      <td>6.842155</td>\n",
       "      <td>5.360223</td>\n",
       "      <td>-0.095677</td>\n",
       "      <td>3.111500</td>\n",
       "      <td>1.666459</td>\n",
       "      <td>1.050261</td>\n",
       "      <td>8.203714</td>\n",
       "      <td>13.207808</td>\n",
       "      <td>0.75</td>\n",
       "    </tr>\n",
       "    <tr>\n",
       "      <th>4</th>\n",
       "      <td>0.429388</td>\n",
       "      <td>0.711653</td>\n",
       "      <td>-2.661736</td>\n",
       "      <td>-12.004468</td>\n",
       "      <td>-5.321560</td>\n",
       "      <td>1.316416</td>\n",
       "      <td>-1.274352</td>\n",
       "      <td>-1.458662</td>\n",
       "      <td>-31.296882</td>\n",
       "      <td>-6.629988</td>\n",
       "      <td>...</td>\n",
       "      <td>0.385419</td>\n",
       "      <td>7.946430</td>\n",
       "      <td>4.152772</td>\n",
       "      <td>1.312670</td>\n",
       "      <td>3.117873</td>\n",
       "      <td>1.241301</td>\n",
       "      <td>1.421854</td>\n",
       "      <td>-0.647793</td>\n",
       "      <td>-4.945096</td>\n",
       "      <td>0.50</td>\n",
       "    </tr>\n",
       "  </tbody>\n",
       "</table>\n",
       "<p>5 rows × 144 columns</p>\n",
       "</div>"
      ],
      "text/plain": [
       "   robot_gear_compression_diff_1  weapon_robot_armour_index_2  \\\n",
       "0                      14.778640                    15.137062   \n",
       "1                       3.630786                     3.177740   \n",
       "2                     -18.021881                   -17.889957   \n",
       "3                      -9.425478                   -10.598927   \n",
       "4                       0.429388                     0.711653   \n",
       "\n",
       "   robot_gear_compression_diff_3  robot_gear_compression_diff_4  \\\n",
       "0                      16.059129                       9.700867   \n",
       "1                       1.912224                      -1.527513   \n",
       "2                     -30.008182                     -86.361924   \n",
       "3                      -9.973356                      -2.208846   \n",
       "4                      -2.661736                     -12.004468   \n",
       "\n",
       "   weapon_robot_punch_right_1  robot_gear_compression_diff_6  \\\n",
       "0                   17.306024                      11.575922   \n",
       "1                   -5.789436                       3.889655   \n",
       "2                  -47.201019                     -15.785587   \n",
       "3                  -22.276067                      -7.360231   \n",
       "4                   -5.321560                       1.316416   \n",
       "\n",
       "   robot_gear_compression_diff_7  robot_gear_compression_diff_8  \\\n",
       "0                      19.362588                      13.624536   \n",
       "1                       3.070223                       2.172617   \n",
       "2                     -27.947707                     -25.795492   \n",
       "3                     -14.095744                      -7.314123   \n",
       "4                      -1.274352                      -1.458662   \n",
       "\n",
       "   robot_gear_compression_diff_9  robot_gear_compression_diff_10    ...      \\\n",
       "0                     -15.913761                       21.324387    ...       \n",
       "1                     -18.060239                       -0.793423    ...       \n",
       "2                     -97.607635                      -34.821692    ...       \n",
       "3                      16.365859                      -21.135145    ...       \n",
       "4                     -31.296882                       -6.629988    ...       \n",
       "\n",
       "   weapon_robot_eye_laser_sensor_4  robot_probe_temperature_5  \\\n",
       "0                         0.385419                  -9.609263   \n",
       "1                         0.385419                   7.646213   \n",
       "2                         0.385419                   7.341760   \n",
       "3                         0.528241                   6.842155   \n",
       "4                         0.385419                   7.946430   \n",
       "\n",
       "   robot_probe_temperature_6  robot_probe_temperature_7  \\\n",
       "0                  -6.156877                   2.542281   \n",
       "1                   4.227676                   1.160998   \n",
       "2                   1.817519                   1.612755   \n",
       "3                   5.360223                  -0.095677   \n",
       "4                   4.152772                   1.312670   \n",
       "\n",
       "   robot_probe_temperature_8  robot_probe_temperature_9  \\\n",
       "0                   3.088324                   1.286310   \n",
       "1                   2.992417                   0.683194   \n",
       "2                   2.945107                   1.738819   \n",
       "3                   3.111500                   1.666459   \n",
       "4                   3.117873                   1.241301   \n",
       "\n",
       "   weapon_robot_eye_laser_range_1  weapon_robot_punch_left_4  \\\n",
       "0                        1.110370                  -3.019102   \n",
       "1                        0.740192                  -0.647793   \n",
       "2                        1.512082                  -0.647793   \n",
       "3                        1.050261                   8.203714   \n",
       "4                        1.421854                  -0.647793   \n",
       "\n",
       "   weapon_robot_punch_left_2  gamma_ray  \n",
       "0                 -27.090173       0.25  \n",
       "1                  -3.946220       0.50  \n",
       "2                 -34.318704       0.50  \n",
       "3                  13.207808       0.75  \n",
       "4                  -4.945096       0.50  \n",
       "\n",
       "[5 rows x 144 columns]"
      ]
     },
     "execution_count": 68,
     "metadata": {},
     "output_type": "execute_result"
    }
   ],
   "source": [
    "df_all.head()"
   ]
  },
  {
   "cell_type": "code",
   "execution_count": 69,
   "metadata": {},
   "outputs": [],
   "source": [
    "scaler = RobustScaler()\n",
    "\n",
    "df_all = scaler.fit_transform(df_all)"
   ]
  },
  {
   "cell_type": "code",
   "execution_count": 70,
   "metadata": {},
   "outputs": [],
   "source": [
    "train = df_all[:num_train]\n",
    "test = df_all[num_train:]"
   ]
  },
  {
   "cell_type": "code",
   "execution_count": 50,
   "metadata": {},
   "outputs": [],
   "source": [
    "sfm = SelectFromModel(LassoCV(cv=5), threshold=1e-07)\n",
    "sfm.fit(train, y_train)\n",
    "train = sfm.transform(train)\n",
    "test = sfm.transform(test)"
   ]
  },
  {
   "cell_type": "code",
   "execution_count": 51,
   "metadata": {},
   "outputs": [
    {
     "data": {
      "text/plain": [
       "1e-07"
      ]
     },
     "execution_count": 51,
     "metadata": {},
     "output_type": "execute_result"
    }
   ],
   "source": [
    "sfm.threshold_"
   ]
  },
  {
   "cell_type": "code",
   "execution_count": 52,
   "metadata": {},
   "outputs": [
    {
     "data": {
      "text/plain": [
       "Index(['weapon_robot_punch_right_1', 'robot_gear_circulation_12',\n",
       "       'weapon_robot_gun_power_3', 'robot_gear_temperature_11',\n",
       "       'robotic_circuits_speed_12', 'robot_engine_speed_13',\n",
       "       'robot_engine_speed_15', 'robot_engine_circulation_6',\n",
       "       'robot_engine_circulation_7', 'robot_probe_circulation_6',\n",
       "       'robot_probe_circulation_7', 'robot_probe_temperature_8'],\n",
       "      dtype='object')"
      ]
     },
     "execution_count": 52,
     "metadata": {},
     "output_type": "execute_result"
    }
   ],
   "source": [
    "df = pd.read_csv('./robot_data/train_data.csv')\n",
    "df = df.drop(columns=['year', 'target'])\n",
    "feature_idx = sfm.get_support()\n",
    "feature_name = df.columns[feature_idx]\n",
    "feature_name"
   ]
  },
  {
   "cell_type": "code",
   "execution_count": 53,
   "metadata": {},
   "outputs": [
    {
     "data": {
      "text/plain": [
       "'Number of features: 12'"
      ]
     },
     "execution_count": 53,
     "metadata": {},
     "output_type": "execute_result"
    }
   ],
   "source": [
    "'Number of features: %d' % train.shape[1]"
   ]
  },
  {
   "cell_type": "code",
   "execution_count": 98,
   "metadata": {},
   "outputs": [],
   "source": [
    "def create_model(neurons=20):\n",
    "    model = Sequential()\n",
    "    model.add(InputLayer(input_shape=(train.shape[1],)))\n",
    "    model.add(Dense(neurons, activation='tanh'))\n",
    "    model.add(Dense(neurons, activation='tanh'))\n",
    "    model.add(Dense(neurons, activation='tanh'))\n",
    "    model.add(Dense(1, activation='linear'))\n",
    "    model.compile(loss='mean_squared_error', optimizer='nadam', metrics=[coeff_determination])\n",
    "    return model"
   ]
  },
  {
   "cell_type": "code",
   "execution_count": 73,
   "metadata": {},
   "outputs": [],
   "source": [
    "model = KerasRegressor(build_fn=create_model, epochs=75, verbose=0)"
   ]
  },
  {
   "cell_type": "code",
   "execution_count": 74,
   "metadata": {},
   "outputs": [],
   "source": [
    "gsc = GridSearchCV(\n",
    "    estimator=model,\n",
    "    param_grid={\n",
    "        'neurons': range(20, 80, 4)\n",
    "    },\n",
    "    scoring='neg_mean_squared_error',\n",
    "    cv=5\n",
    ")"
   ]
  },
  {
   "cell_type": "code",
   "execution_count": 75,
   "metadata": {},
   "outputs": [
    {
     "name": "stderr",
     "output_type": "stream",
     "text": [
      "/Users/yra/miniconda3/envs/keras-jupyter/lib/python3.6/site-packages/sklearn/model_selection/_search.py:841: DeprecationWarning: The default of the `iid` parameter will change from True to False in version 0.22 and will be removed in 0.24. This will change numeric results when test-set sizes are unequal.\n",
      "  DeprecationWarning)\n"
     ]
    }
   ],
   "source": [
    "grid_result = gsc.fit(train, y_train)"
   ]
  },
  {
   "cell_type": "code",
   "execution_count": 76,
   "metadata": {},
   "outputs": [
    {
     "data": {
      "text/plain": [
       "\"Best: -70.577451 using {'neurons': 68}\""
      ]
     },
     "execution_count": 76,
     "metadata": {},
     "output_type": "execute_result"
    }
   ],
   "source": [
    "\"Best: %f using %s\" % (grid_result.best_score_, grid_result.best_params_)"
   ]
  },
  {
   "cell_type": "code",
   "execution_count": 77,
   "metadata": {},
   "outputs": [
    {
     "name": "stdout",
     "output_type": "stream",
     "text": [
      "Train: -103.080701 (5.660198) // Test : -131.558517 (16.107492) with: {'neurons': 20}\n",
      "Train: -86.836912 (3.779908) // Test : -120.941684 (24.246797) with: {'neurons': 24}\n",
      "Train: -70.340725 (5.061097) // Test : -101.954682 (17.944758) with: {'neurons': 28}\n",
      "Train: -60.397982 (6.530301) // Test : -93.874045 (16.440557) with: {'neurons': 32}\n",
      "Train: -51.584305 (1.962680) // Test : -84.141915 (18.102621) with: {'neurons': 36}\n",
      "Train: -47.013261 (4.423008) // Test : -87.519279 (28.338121) with: {'neurons': 40}\n",
      "Train: -41.354478 (2.382907) // Test : -86.649531 (21.989518) with: {'neurons': 44}\n",
      "Train: -37.867747 (1.732104) // Test : -78.352130 (28.353550) with: {'neurons': 48}\n",
      "Train: -38.528453 (5.611626) // Test : -86.148180 (27.219925) with: {'neurons': 52}\n",
      "Train: -34.632422 (4.769129) // Test : -74.180238 (27.190082) with: {'neurons': 56}\n",
      "Train: -35.686812 (11.688889) // Test : -72.775210 (31.389504) with: {'neurons': 60}\n",
      "Train: -37.867366 (14.382463) // Test : -92.374571 (30.146171) with: {'neurons': 64}\n",
      "Train: -31.231609 (2.634204) // Test : -70.577451 (25.731150) with: {'neurons': 68}\n",
      "Train: -29.056876 (3.265765) // Test : -73.580207 (14.365389) with: {'neurons': 72}\n",
      "Train: -27.318371 (2.783720) // Test : -84.580145 (27.255590) with: {'neurons': 76}\n"
     ]
    },
    {
     "name": "stderr",
     "output_type": "stream",
     "text": [
      "/Users/yra/miniconda3/envs/keras-jupyter/lib/python3.6/site-packages/sklearn/utils/deprecation.py:125: FutureWarning: You are accessing a training score ('mean_train_score'), which will not be available by default any more in 0.21. If you need training scores, please set return_train_score=True\n",
      "  warnings.warn(*warn_args, **warn_kwargs)\n",
      "/Users/yra/miniconda3/envs/keras-jupyter/lib/python3.6/site-packages/sklearn/utils/deprecation.py:125: FutureWarning: You are accessing a training score ('std_train_score'), which will not be available by default any more in 0.21. If you need training scores, please set return_train_score=True\n",
      "  warnings.warn(*warn_args, **warn_kwargs)\n"
     ]
    }
   ],
   "source": [
    "for test_mean, test_stdev, train_mean, train_stdev, param in zip(\n",
    "        grid_result.cv_results_['mean_test_score'],\n",
    "        grid_result.cv_results_['std_test_score'],\n",
    "        grid_result.cv_results_['mean_train_score'],\n",
    "        grid_result.cv_results_['std_train_score'],\n",
    "        grid_result.cv_results_['params']):\n",
    "    print(\"Train: %f (%f) // Test : %f (%f) with: %r\" % (train_mean, train_stdev, test_mean, test_stdev, param))\n",
    "    "
   ]
  },
  {
   "cell_type": "code",
   "execution_count": 99,
   "metadata": {},
   "outputs": [],
   "source": [
    "model = create_model(**grid_result.best_params_)"
   ]
  },
  {
   "cell_type": "code",
   "execution_count": null,
   "metadata": {
    "scrolled": false
   },
   "outputs": [],
   "source": [
    "model.fit(train, y_train, epochs=75, verbose=2)"
   ]
  },
  {
   "cell_type": "code",
   "execution_count": 101,
   "metadata": {},
   "outputs": [],
   "source": [
    "y_test = model.predict(test).flatten()"
   ]
  },
  {
   "cell_type": "code",
   "execution_count": 102,
   "metadata": {},
   "outputs": [],
   "source": [
    "df_sub = pd.DataFrame({'year': year_test, 'target': y_test})\n",
    "df_sub.to_csv('./submissions/subm_lasso_02.csv', index=False)"
   ]
  },
  {
   "cell_type": "markdown",
   "metadata": {},
   "source": [
    "# keras model selection "
   ]
  },
  {
   "cell_type": "code",
   "execution_count": 54,
   "metadata": {},
   "outputs": [],
   "source": [
    "#  Модель из которой мы будем извлекать фичи \n",
    "def create_model_feature(layers=1, neurons=20):\n",
    "    model = Sequential()\n",
    "    model.add(InputLayer(input_shape=(train.shape[1],)))\n",
    "    \n",
    "    for _ in range(layers):\n",
    "        model.add(Dense(neurons, activation='tanh'))\n",
    "    \n",
    "    model.add(Dense(1, activation='linear'))\n",
    "    model.compile(loss='mean_squared_error', optimizer='nadam', metrics=[coeff_determination])\n",
    "    return model"
   ]
  },
  {
   "cell_type": "code",
   "execution_count": 56,
   "metadata": {},
   "outputs": [],
   "source": [
    "model = KerasRegressor(build_fn=create_model_feature, epochs=100, verbose=0)"
   ]
  },
  {
   "cell_type": "code",
   "execution_count": 71,
   "metadata": {},
   "outputs": [],
   "source": [
    "gsc = GridSearchCV(\n",
    "    estimator=model,\n",
    "    param_grid={\n",
    "        'neurons': range(20, 100, 10),\n",
    "        'layers': range(1, 6)\n",
    "    },\n",
    "    scoring='r2',\n",
    "    cv=3\n",
    ")"
   ]
  },
  {
   "cell_type": "code",
   "execution_count": 72,
   "metadata": {},
   "outputs": [],
   "source": [
    "grid_result = gsc.fit(train, y_train)"
   ]
  },
  {
   "cell_type": "code",
   "execution_count": 73,
   "metadata": {},
   "outputs": [
    {
     "data": {
      "text/plain": [
       "\"Best: 0.882499 using {'layers': 3, 'neurons': 90}\""
      ]
     },
     "execution_count": 73,
     "metadata": {},
     "output_type": "execute_result"
    }
   ],
   "source": [
    "\"Best: %f using %s\" % (grid_result.best_score_, grid_result.best_params_)"
   ]
  },
  {
   "cell_type": "code",
   "execution_count": 74,
   "metadata": {},
   "outputs": [
    {
     "name": "stdout",
     "output_type": "stream",
     "text": [
      "Train: 0.712372 (0.013856) // Test : 0.668258 (0.007072) with: {'layers': 1, 'neurons': 20}\n",
      "Train: 0.785631 (0.021693) // Test : 0.722505 (0.040267) with: {'layers': 1, 'neurons': 30}\n",
      "Train: 0.843286 (0.035281) // Test : 0.767591 (0.031533) with: {'layers': 1, 'neurons': 40}\n",
      "Train: 0.874177 (0.010242) // Test : 0.799726 (0.007777) with: {'layers': 1, 'neurons': 50}\n",
      "Train: 0.892483 (0.013242) // Test : 0.813930 (0.006813) with: {'layers': 1, 'neurons': 60}\n",
      "Train: 0.915863 (0.004796) // Test : 0.837334 (0.008430) with: {'layers': 1, 'neurons': 70}\n",
      "Train: 0.935666 (0.002174) // Test : 0.856807 (0.015428) with: {'layers': 1, 'neurons': 80}\n",
      "Train: 0.937212 (0.006403) // Test : 0.860044 (0.010010) with: {'layers': 1, 'neurons': 90}\n",
      "Train: 0.832787 (0.003232) // Test : 0.768517 (0.009593) with: {'layers': 2, 'neurons': 20}\n",
      "Train: 0.908375 (0.009859) // Test : 0.834448 (0.003437) with: {'layers': 2, 'neurons': 30}\n",
      "Train: 0.928676 (0.012068) // Test : 0.852672 (0.016290) with: {'layers': 2, 'neurons': 40}\n",
      "Train: 0.956600 (0.002844) // Test : 0.855510 (0.027866) with: {'layers': 2, 'neurons': 50}\n",
      "Train: 0.962658 (0.002565) // Test : 0.880174 (0.021970) with: {'layers': 2, 'neurons': 60}\n",
      "Train: 0.962420 (0.004141) // Test : 0.879692 (0.016598) with: {'layers': 2, 'neurons': 70}\n",
      "Train: 0.965737 (0.003644) // Test : 0.875671 (0.012719) with: {'layers': 2, 'neurons': 80}\n",
      "Train: 0.949567 (0.022412) // Test : 0.881763 (0.021830) with: {'layers': 2, 'neurons': 90}\n",
      "Train: 0.837078 (0.013298) // Test : 0.781000 (0.008299) with: {'layers': 3, 'neurons': 20}\n",
      "Train: 0.902092 (0.012343) // Test : 0.799910 (0.065563) with: {'layers': 3, 'neurons': 30}\n",
      "Train: 0.927974 (0.016535) // Test : 0.862135 (0.017150) with: {'layers': 3, 'neurons': 40}\n",
      "Train: 0.952354 (0.003307) // Test : 0.867170 (0.020297) with: {'layers': 3, 'neurons': 50}\n",
      "Train: 0.962026 (0.002412) // Test : 0.864118 (0.058912) with: {'layers': 3, 'neurons': 60}\n",
      "Train: 0.958605 (0.004203) // Test : 0.855460 (0.029352) with: {'layers': 3, 'neurons': 70}\n",
      "Train: 0.956120 (0.014923) // Test : 0.866996 (0.019886) with: {'layers': 3, 'neurons': 80}\n",
      "Train: 0.960079 (0.002607) // Test : 0.882499 (0.028577) with: {'layers': 3, 'neurons': 90}\n",
      "Train: 0.843668 (0.005856) // Test : 0.754382 (0.045339) with: {'layers': 4, 'neurons': 20}\n",
      "Train: 0.876627 (0.021715) // Test : 0.805094 (0.041957) with: {'layers': 4, 'neurons': 30}\n",
      "Train: 0.917881 (0.010713) // Test : 0.830035 (0.040010) with: {'layers': 4, 'neurons': 40}\n",
      "Train: 0.947862 (0.013755) // Test : 0.864411 (0.041106) with: {'layers': 4, 'neurons': 50}\n",
      "Train: 0.952103 (0.012208) // Test : 0.840488 (0.043598) with: {'layers': 4, 'neurons': 60}\n",
      "Train: 0.935933 (0.017926) // Test : 0.832634 (0.054065) with: {'layers': 4, 'neurons': 70}\n",
      "Train: 0.938514 (0.024036) // Test : 0.861925 (0.050071) with: {'layers': 4, 'neurons': 80}\n",
      "Train: 0.929296 (0.030512) // Test : 0.858102 (0.032743) with: {'layers': 4, 'neurons': 90}\n",
      "Train: 0.833152 (0.002873) // Test : 0.782063 (0.004799) with: {'layers': 5, 'neurons': 20}\n",
      "Train: 0.886265 (0.005548) // Test : 0.832899 (0.004232) with: {'layers': 5, 'neurons': 30}\n",
      "Train: 0.920633 (0.023810) // Test : 0.845988 (0.016276) with: {'layers': 5, 'neurons': 40}\n",
      "Train: 0.925555 (0.017129) // Test : 0.850526 (0.022961) with: {'layers': 5, 'neurons': 50}\n",
      "Train: 0.935447 (0.018440) // Test : 0.822618 (0.047281) with: {'layers': 5, 'neurons': 60}\n",
      "Train: 0.941128 (0.017960) // Test : 0.801037 (0.079188) with: {'layers': 5, 'neurons': 70}\n",
      "Train: 0.942018 (0.028164) // Test : 0.833773 (0.089434) with: {'layers': 5, 'neurons': 80}\n",
      "Train: 0.957632 (0.003979) // Test : 0.865382 (0.001612) with: {'layers': 5, 'neurons': 90}\n"
     ]
    },
    {
     "name": "stderr",
     "output_type": "stream",
     "text": [
      "/Users/yra/miniconda3/envs/keras-jupyter/lib/python3.6/site-packages/sklearn/utils/deprecation.py:125: FutureWarning: You are accessing a training score ('mean_train_score'), which will not be available by default any more in 0.21. If you need training scores, please set return_train_score=True\n",
      "  warnings.warn(*warn_args, **warn_kwargs)\n",
      "/Users/yra/miniconda3/envs/keras-jupyter/lib/python3.6/site-packages/sklearn/utils/deprecation.py:125: FutureWarning: You are accessing a training score ('std_train_score'), which will not be available by default any more in 0.21. If you need training scores, please set return_train_score=True\n",
      "  warnings.warn(*warn_args, **warn_kwargs)\n"
     ]
    }
   ],
   "source": [
    "for test_mean, test_stdev, train_mean, train_stdev, param in zip(\n",
    "        grid_result.cv_results_['mean_test_score'],\n",
    "        grid_result.cv_results_['std_test_score'],\n",
    "        grid_result.cv_results_['mean_train_score'],\n",
    "        grid_result.cv_results_['std_train_score'],\n",
    "        grid_result.cv_results_['params']):\n",
    "    print(\"Train: %f (%f) // Test : %f (%f) with: %r\" % (train_mean, train_stdev, test_mean, test_stdev, param))\n",
    "    "
   ]
  },
  {
   "cell_type": "code",
   "execution_count": 81,
   "metadata": {},
   "outputs": [],
   "source": [
    "model = create_model_feature(**grid_result.best_params_)"
   ]
  },
  {
   "cell_type": "code",
   "execution_count": 85,
   "metadata": {
    "scrolled": true
   },
   "outputs": [
    {
     "name": "stdout",
     "output_type": "stream",
     "text": [
      "Train on 2610 samples, validate on 653 samples\n",
      "Epoch 1/3\n",
      " - 0s - loss: 13.9756 - coeff_determination: 0.9344 - val_loss: 28.7585 - val_coeff_determination: 0.8880\n",
      "Epoch 2/3\n",
      " - 0s - loss: 13.9777 - coeff_determination: 0.9389 - val_loss: 29.0937 - val_coeff_determination: 0.8864\n",
      "Epoch 3/3\n",
      " - 0s - loss: 13.9917 - coeff_determination: 0.9386 - val_loss: 28.5713 - val_coeff_determination: 0.8879\n"
     ]
    },
    {
     "data": {
      "text/plain": [
       "<keras.callbacks.History at 0x1a6f39ed30>"
      ]
     },
     "execution_count": 85,
     "metadata": {},
     "output_type": "execute_result"
    }
   ],
   "source": [
    "model.fit(train, y_train, epochs=3, verbose=2, validation_split=0.2)"
   ]
  },
  {
   "cell_type": "code",
   "execution_count": 86,
   "metadata": {},
   "outputs": [],
   "source": [
    "y_test = model.predict(test).flatten()"
   ]
  },
  {
   "cell_type": "code",
   "execution_count": 87,
   "metadata": {},
   "outputs": [],
   "source": [
    "df_sub = pd.DataFrame({'year': year_test, 'target': y_test})\n",
    "df_sub.to_csv('./submissions/subm_keras_features_01.csv', index=False)"
   ]
  },
  {
   "cell_type": "markdown",
   "metadata": {},
   "source": [
    "# hmmmmmmm"
   ]
  },
  {
   "cell_type": "code",
   "execution_count": 113,
   "metadata": {},
   "outputs": [],
   "source": [
    "test = pd.read_csv('./robot_data/test_data.csv')\n",
    "test = test.drop(columns=['year', 'target'])\n",
    "test = simple_encode(test)"
   ]
  },
  {
   "cell_type": "code",
   "execution_count": 114,
   "metadata": {},
   "outputs": [],
   "source": [
    "from keras.models import load_model"
   ]
  },
  {
   "cell_type": "code",
   "execution_count": 125,
   "metadata": {},
   "outputs": [],
   "source": [
    "# 940_simple looks like right model \n",
    "model = load_model('models/model_979_simple.h5', custom_objects={'coeff_determination': coeff_determination})"
   ]
  },
  {
   "cell_type": "code",
   "execution_count": 126,
   "metadata": {},
   "outputs": [],
   "source": [
    "y_test = model.predict(test).flatten()"
   ]
  },
  {
   "cell_type": "code",
   "execution_count": 127,
   "metadata": {},
   "outputs": [],
   "source": [
    "df_sub = pd.DataFrame({'year': year_test, 'target': y_test})\n",
    "df_sub.to_csv('./test.csv', index=False)"
   ]
  },
  {
   "cell_type": "code",
   "execution_count": 128,
   "metadata": {},
   "outputs": [
    {
     "name": "stdout",
     "output_type": "stream",
     "text": [
      "_________________________________________________________________\n",
      "Layer (type)                 Output Shape              Param #   \n",
      "=================================================================\n",
      "dense_13 (Dense)             (None, 128)               18560     \n",
      "_________________________________________________________________\n",
      "dense_14 (Dense)             (None, 256)               33024     \n",
      "_________________________________________________________________\n",
      "dense_15 (Dense)             (None, 256)               65792     \n",
      "_________________________________________________________________\n",
      "dense_16 (Dense)             (None, 256)               65792     \n",
      "_________________________________________________________________\n",
      "dense_17 (Dense)             (None, 256)               65792     \n",
      "_________________________________________________________________\n",
      "dense_18 (Dense)             (None, 1)                 257       \n",
      "=================================================================\n",
      "Total params: 249,217\n",
      "Trainable params: 249,217\n",
      "Non-trainable params: 0\n",
      "_________________________________________________________________\n"
     ]
    }
   ],
   "source": [
    "model.summary()"
   ]
  },
  {
   "cell_type": "code",
   "execution_count": null,
   "metadata": {},
   "outputs": [],
   "source": []
  }
 ],
 "metadata": {
  "kernelspec": {
   "display_name": "Python 3",
   "language": "python",
   "name": "python3"
  },
  "language_info": {
   "codemirror_mode": {
    "name": "ipython",
    "version": 3
   },
   "file_extension": ".py",
   "mimetype": "text/x-python",
   "name": "python",
   "nbconvert_exporter": "python",
   "pygments_lexer": "ipython3",
   "version": "3.6.6"
  }
 },
 "nbformat": 4,
 "nbformat_minor": 2
}

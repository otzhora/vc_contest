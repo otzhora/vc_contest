{
 "cells": [
  {
   "cell_type": "code",
   "execution_count": 82,
   "metadata": {},
   "outputs": [],
   "source": [
    "import pandas as pd\n",
    "import numpy as np\n",
    "from keras.models import Sequential\n",
    "from keras.layers import Dense\n",
    "\n",
    "import json \n",
    "\n",
    "\n",
    "from sklearn.metrics import accuracy_score, log_loss, r2_score\n",
    "from sklearn.linear_model import LinearRegression\n",
    "from sklearn.linear_model import Lasso\n",
    "from sklearn.linear_model import ElasticNet\n",
    "from sklearn.tree import DecisionTreeRegressor\n",
    "from sklearn.neighbors import KNeighborsRegressor\n",
    "from sklearn.ensemble import GradientBoostingRegressor\n",
    "\n",
    "import matplotlib.pyplot as plt\n",
    "import seaborn as sns\n",
    "\n",
    "from joblib import parallel_backend\n",
    "from sklearn.model_selection import cross_validate\n",
    "from sklearn.preprocessing import StandardScaler\n"
   ]
  },
  {
   "cell_type": "code",
   "execution_count": 83,
   "metadata": {},
   "outputs": [],
   "source": [
    "df = pd.read_csv('robot_data/train_data.csv')"
   ]
  },
  {
   "cell_type": "code",
   "execution_count": 84,
   "metadata": {},
   "outputs": [],
   "source": [
    "df.drop(columns=['year'], inplace=True)"
   ]
  },
  {
   "cell_type": "markdown",
   "metadata": {},
   "source": [
    "## Shuffle dataset "
   ]
  },
  {
   "cell_type": "code",
   "execution_count": 85,
   "metadata": {
    "scrolled": true
   },
   "outputs": [
    {
     "data": {
      "text/html": [
       "<div>\n",
       "<style scoped>\n",
       "    .dataframe tbody tr th:only-of-type {\n",
       "        vertical-align: middle;\n",
       "    }\n",
       "\n",
       "    .dataframe tbody tr th {\n",
       "        vertical-align: top;\n",
       "    }\n",
       "\n",
       "    .dataframe thead th {\n",
       "        text-align: right;\n",
       "    }\n",
       "</style>\n",
       "<table border=\"1\" class=\"dataframe\">\n",
       "  <thead>\n",
       "    <tr style=\"text-align: right;\">\n",
       "      <th></th>\n",
       "      <th>robot_gear_compression_diff_1</th>\n",
       "      <th>weapon_robot_armour_index_2</th>\n",
       "      <th>robot_gear_compression_diff_3</th>\n",
       "      <th>robot_gear_compression_diff_4</th>\n",
       "      <th>weapon_robot_punch_right_1</th>\n",
       "      <th>robot_gear_compression_diff_6</th>\n",
       "      <th>robot_gear_compression_diff_7</th>\n",
       "      <th>robot_gear_compression_diff_8</th>\n",
       "      <th>robot_gear_compression_diff_9</th>\n",
       "      <th>robot_gear_compression_diff_10</th>\n",
       "      <th>...</th>\n",
       "      <th>robot_probe_temperature_5</th>\n",
       "      <th>robot_probe_temperature_6</th>\n",
       "      <th>robot_probe_temperature_7</th>\n",
       "      <th>robot_probe_temperature_8</th>\n",
       "      <th>robot_probe_temperature_9</th>\n",
       "      <th>weapon_robot_eye_laser_range_1</th>\n",
       "      <th>weapon_robot_punch_left_4</th>\n",
       "      <th>weapon_robot_punch_left_2</th>\n",
       "      <th>gamma_ray</th>\n",
       "      <th>target</th>\n",
       "    </tr>\n",
       "  </thead>\n",
       "  <tbody>\n",
       "    <tr>\n",
       "      <th>0</th>\n",
       "      <td>-21.473166</td>\n",
       "      <td>-21.287773</td>\n",
       "      <td>-30.439702</td>\n",
       "      <td>-66.690857</td>\n",
       "      <td>-47.987073</td>\n",
       "      <td>-16.530920</td>\n",
       "      <td>-28.607996</td>\n",
       "      <td>-23.056958</td>\n",
       "      <td>-82.100562</td>\n",
       "      <td>-38.851181</td>\n",
       "      <td>...</td>\n",
       "      <td>3.670204</td>\n",
       "      <td>-0.140208</td>\n",
       "      <td>1.317377</td>\n",
       "      <td>3.222501</td>\n",
       "      <td>1.839743</td>\n",
       "      <td>1.433567</td>\n",
       "      <td>22.619649</td>\n",
       "      <td>1.780668</td>\n",
       "      <td>high</td>\n",
       "      <td>-16.524609</td>\n",
       "    </tr>\n",
       "    <tr>\n",
       "      <th>1</th>\n",
       "      <td>14.416162</td>\n",
       "      <td>14.498385</td>\n",
       "      <td>15.708597</td>\n",
       "      <td>13.847628</td>\n",
       "      <td>19.363410</td>\n",
       "      <td>10.401242</td>\n",
       "      <td>18.381774</td>\n",
       "      <td>14.741960</td>\n",
       "      <td>-12.417873</td>\n",
       "      <td>19.350416</td>\n",
       "      <td>...</td>\n",
       "      <td>5.500339</td>\n",
       "      <td>0.242163</td>\n",
       "      <td>2.608532</td>\n",
       "      <td>3.223779</td>\n",
       "      <td>2.354918</td>\n",
       "      <td>1.483765</td>\n",
       "      <td>-13.017694</td>\n",
       "      <td>-256.022525</td>\n",
       "      <td>moderate</td>\n",
       "      <td>15.394629</td>\n",
       "    </tr>\n",
       "    <tr>\n",
       "      <th>2</th>\n",
       "      <td>-12.096272</td>\n",
       "      <td>-12.461907</td>\n",
       "      <td>-15.705488</td>\n",
       "      <td>-25.977174</td>\n",
       "      <td>-36.403429</td>\n",
       "      <td>-11.398491</td>\n",
       "      <td>-19.798178</td>\n",
       "      <td>-15.402073</td>\n",
       "      <td>-27.715333</td>\n",
       "      <td>-25.356473</td>\n",
       "      <td>...</td>\n",
       "      <td>-6.798890</td>\n",
       "      <td>-1.889365</td>\n",
       "      <td>0.870645</td>\n",
       "      <td>2.935445</td>\n",
       "      <td>1.346379</td>\n",
       "      <td>1.424815</td>\n",
       "      <td>14.191182</td>\n",
       "      <td>-2.720932</td>\n",
       "      <td>high</td>\n",
       "      <td>-8.484775</td>\n",
       "    </tr>\n",
       "    <tr>\n",
       "      <th>3</th>\n",
       "      <td>13.008881</td>\n",
       "      <td>12.319584</td>\n",
       "      <td>17.046516</td>\n",
       "      <td>44.910001</td>\n",
       "      <td>15.730521</td>\n",
       "      <td>11.345391</td>\n",
       "      <td>16.899036</td>\n",
       "      <td>16.216861</td>\n",
       "      <td>45.233112</td>\n",
       "      <td>18.156451</td>\n",
       "      <td>...</td>\n",
       "      <td>-16.669137</td>\n",
       "      <td>-1.551326</td>\n",
       "      <td>-0.677445</td>\n",
       "      <td>3.008708</td>\n",
       "      <td>1.434146</td>\n",
       "      <td>1.501527</td>\n",
       "      <td>-5.333896</td>\n",
       "      <td>-37.868043</td>\n",
       "      <td>moderate</td>\n",
       "      <td>9.230131</td>\n",
       "    </tr>\n",
       "    <tr>\n",
       "      <th>4</th>\n",
       "      <td>13.607598</td>\n",
       "      <td>15.946945</td>\n",
       "      <td>15.632170</td>\n",
       "      <td>-7.988847</td>\n",
       "      <td>9.794443</td>\n",
       "      <td>13.508486</td>\n",
       "      <td>22.731947</td>\n",
       "      <td>17.293199</td>\n",
       "      <td>-48.068992</td>\n",
       "      <td>29.980230</td>\n",
       "      <td>...</td>\n",
       "      <td>-31.557540</td>\n",
       "      <td>-3.196854</td>\n",
       "      <td>0.812429</td>\n",
       "      <td>2.616768</td>\n",
       "      <td>0.518163</td>\n",
       "      <td>0.736717</td>\n",
       "      <td>-26.675712</td>\n",
       "      <td>43.160764</td>\n",
       "      <td>low</td>\n",
       "      <td>17.404215</td>\n",
       "    </tr>\n",
       "  </tbody>\n",
       "</table>\n",
       "<p>5 rows × 145 columns</p>\n",
       "</div>"
      ],
      "text/plain": [
       "   robot_gear_compression_diff_1  weapon_robot_armour_index_2  \\\n",
       "0                     -21.473166                   -21.287773   \n",
       "1                      14.416162                    14.498385   \n",
       "2                     -12.096272                   -12.461907   \n",
       "3                      13.008881                    12.319584   \n",
       "4                      13.607598                    15.946945   \n",
       "\n",
       "   robot_gear_compression_diff_3  robot_gear_compression_diff_4  \\\n",
       "0                     -30.439702                     -66.690857   \n",
       "1                      15.708597                      13.847628   \n",
       "2                     -15.705488                     -25.977174   \n",
       "3                      17.046516                      44.910001   \n",
       "4                      15.632170                      -7.988847   \n",
       "\n",
       "   weapon_robot_punch_right_1  robot_gear_compression_diff_6  \\\n",
       "0                  -47.987073                     -16.530920   \n",
       "1                   19.363410                      10.401242   \n",
       "2                  -36.403429                     -11.398491   \n",
       "3                   15.730521                      11.345391   \n",
       "4                    9.794443                      13.508486   \n",
       "\n",
       "   robot_gear_compression_diff_7  robot_gear_compression_diff_8  \\\n",
       "0                     -28.607996                     -23.056958   \n",
       "1                      18.381774                      14.741960   \n",
       "2                     -19.798178                     -15.402073   \n",
       "3                      16.899036                      16.216861   \n",
       "4                      22.731947                      17.293199   \n",
       "\n",
       "   robot_gear_compression_diff_9  robot_gear_compression_diff_10    ...      \\\n",
       "0                     -82.100562                      -38.851181    ...       \n",
       "1                     -12.417873                       19.350416    ...       \n",
       "2                     -27.715333                      -25.356473    ...       \n",
       "3                      45.233112                       18.156451    ...       \n",
       "4                     -48.068992                       29.980230    ...       \n",
       "\n",
       "   robot_probe_temperature_5  robot_probe_temperature_6  \\\n",
       "0                   3.670204                  -0.140208   \n",
       "1                   5.500339                   0.242163   \n",
       "2                  -6.798890                  -1.889365   \n",
       "3                 -16.669137                  -1.551326   \n",
       "4                 -31.557540                  -3.196854   \n",
       "\n",
       "   robot_probe_temperature_7  robot_probe_temperature_8  \\\n",
       "0                   1.317377                   3.222501   \n",
       "1                   2.608532                   3.223779   \n",
       "2                   0.870645                   2.935445   \n",
       "3                  -0.677445                   3.008708   \n",
       "4                   0.812429                   2.616768   \n",
       "\n",
       "   robot_probe_temperature_9  weapon_robot_eye_laser_range_1  \\\n",
       "0                   1.839743                        1.433567   \n",
       "1                   2.354918                        1.483765   \n",
       "2                   1.346379                        1.424815   \n",
       "3                   1.434146                        1.501527   \n",
       "4                   0.518163                        0.736717   \n",
       "\n",
       "   weapon_robot_punch_left_4  weapon_robot_punch_left_2  gamma_ray     target  \n",
       "0                  22.619649                   1.780668       high -16.524609  \n",
       "1                 -13.017694                -256.022525   moderate  15.394629  \n",
       "2                  14.191182                  -2.720932       high  -8.484775  \n",
       "3                  -5.333896                 -37.868043   moderate   9.230131  \n",
       "4                 -26.675712                  43.160764        low  17.404215  \n",
       "\n",
       "[5 rows x 145 columns]"
      ]
     },
     "execution_count": 85,
     "metadata": {},
     "output_type": "execute_result"
    }
   ],
   "source": [
    "df = df.sample(frac=1).reset_index(drop=True)\n",
    "df.head()"
   ]
  },
  {
   "cell_type": "markdown",
   "metadata": {},
   "source": [
    "В этом датасете есть только 1 категориальная фича, которую мы можем кодировать или через onehot или прост сопоставить каждому значению чилсо"
   ]
  },
  {
   "cell_type": "markdown",
   "metadata": {},
   "source": [
    "## encode cat features with oneHotEncoder"
   ]
  },
  {
   "cell_type": "code",
   "execution_count": 86,
   "metadata": {
    "scrolled": true
   },
   "outputs": [],
   "source": [
    "def oneHotEncode(df,colNames):\n",
    "    for col in colNames:\n",
    "        if( df[col].dtype == np.dtype('object')):\n",
    "            dummies = pd.get_dummies(df[col],prefix=col)\n",
    "            df = pd.concat([df,dummies],axis=1)\n",
    "\n",
    "            #drop the encoded column\n",
    "            df.drop([col],axis = 1 , inplace=True)\n",
    "    return df\n",
    "\n",
    "# df_oh = oneHotEncode(df, ['gamma_ray'])\n",
    "# df_oh.head()"
   ]
  },
  {
   "cell_type": "markdown",
   "metadata": {},
   "source": [
    "## encode cat fetures with simple encoder "
   ]
  },
  {
   "cell_type": "code",
   "execution_count": 87,
   "metadata": {},
   "outputs": [],
   "source": [
    "def simple_encode(df, encode_map=None):\n",
    "    if not encode_map:\n",
    "        encode_map = {'low': 0.25, 'moderate': 0.5, 'high': 0.75, 'very high': 1}\n",
    "\n",
    "    df['gamma_ray'] = df['gamma_ray'].map(encode_map)\n",
    "    return df\n",
    "\n",
    "\n",
    "# df_sim = simple_encode(df)\n",
    "# df_sim.head()"
   ]
  },
  {
   "cell_type": "markdown",
   "metadata": {},
   "source": [
    "Мы можем засплитить наш размеченный датасет на сет для тренировки и сет для теста модели "
   ]
  },
  {
   "cell_type": "code",
   "execution_count": 88,
   "metadata": {},
   "outputs": [],
   "source": [
    "# сплит не в процентах, а в количестве семплов потому что бибу соси\n",
    "\n",
    "def split_train_test(df, split=600, enc_type='simple'):\n",
    "    if enc_type == 'simple':\n",
    "        df_ = simple_encode(df.copy())\n",
    "        X_train, y_train= df_.iloc[split:].drop(columns=['target'], inplace=False), df_.iloc[split:]['target']\n",
    "        X_test, y_test = df_.iloc[:split].drop(columns=['target'], inplace=False), df_.iloc[:split]['target']\n",
    "    elif enc_type == 'onehot':\n",
    "        df_ = oneHotEncode(df.copy(), ['gamma_ray'])\n",
    "        X_train, y_train = df_.iloc[split:].drop(columns=['target'], inplace=False), df_.iloc[split:]['target']\n",
    "        X_test, y_test = df_.iloc[:split].drop(columns=['target'], inplace=False), df_.iloc[:split]['target']\n",
    "\n",
    "    return X_train, y_train, X_test, y_test\n",
    "\n",
    "# X_train, y_train, X_test, y_test = split_train_test(df, 600, 'simple')"
   ]
  },
  {
   "cell_type": "markdown",
   "metadata": {},
   "source": [
    "# Save model"
   ]
  },
  {
   "cell_type": "code",
   "execution_count": 123,
   "metadata": {},
   "outputs": [],
   "source": [
    "# настятельно рекомендую юзать поле enc (на каком энкодере обучалась)\n",
    "# acc ввеодить без точки, eg: r2 = 0.979 => acc = 979\n",
    "def save_model(model, acc, enc=''):\n",
    "    json_arch = model.to_json()\n",
    "    if enc:\n",
    "        model.save('./models/model_{}_{}.h5'.format(acc, enc))\n",
    "        with open('./arch/model_{}_{}.json'.format(acc, enc), 'w') as out:\n",
    "            out.write(json_arch)\n",
    "    else:\n",
    "        model.save('./models/model_{}.h5'.format(acc))\n",
    "        with open('./arch/model_{}.json'.format(acc), 'w') as out:\n",
    "            out.write(json_arch)"
   ]
  },
  {
   "cell_type": "markdown",
   "metadata": {},
   "source": [
    "## Train mlp "
   ]
  },
  {
   "cell_type": "markdown",
   "metadata": {},
   "source": [
    "Создавать все модели меняя эту функцию не самая лучшая идея, поэтому когда делаете новую модель лучше всего написать новую функцию аналагичную этой (да и вообще лучше целую секцию)"
   ]
  },
  {
   "cell_type": "code",
   "execution_count": 89,
   "metadata": {},
   "outputs": [],
   "source": [
    "def create_model(n_cols):\n",
    "    model = Sequential()\n",
    "\n",
    "    model.add(Dense(128, activation='relu', input_shape=(n_cols,), kernel_initializer='normal'))\n",
    "    model.add(Dense(256, activation='relu', kernel_initializer='normal'))\n",
    "    model.add(Dense(256, activation='relu', kernel_initializer='normal'))\n",
    "    model.add(Dense(256, activation='relu', kernel_initializer='normal'))\n",
    "    model.add(Dense(256, activation='relu', kernel_initializer='normal'))\n",
    "    model.add(Dense(1, activation='linear'))\n",
    "    return model"
   ]
  },
  {
   "cell_type": "markdown",
   "metadata": {},
   "source": [
    "r2 metric \n",
    "\n",
    "${R^2 = \\frac{\\sum{(y_i - \\hat{y_i})^2}}{\\sum{(y_i - \\bar{y})^2}}}$\n",
    "\n",
    "${\\hat{y_i}}$ -- предсказанное значение \n",
    "${\\bar{y}}$ -- среднее значение "
   ]
  },
  {
   "cell_type": "code",
   "execution_count": 90,
   "metadata": {},
   "outputs": [],
   "source": [
    "def coeff_determination(y_true, y_pred):\n",
    "    from keras import backend as K\n",
    "    SS_res =  K.sum(K.square( y_true-y_pred ))\n",
    "    SS_tot = K.sum(K.square( y_true - K.mean(y_true) ) )\n",
    "    return ( 1 - SS_res/(SS_tot + K.epsilon()) )"
   ]
  },
  {
   "cell_type": "code",
   "execution_count": 95,
   "metadata": {},
   "outputs": [
    {
     "name": "stdout",
     "output_type": "stream",
     "text": [
      "_________________________________________________________________\n",
      "Layer (type)                 Output Shape              Param #   \n",
      "=================================================================\n",
      "dense_13 (Dense)             (None, 128)               18560     \n",
      "_________________________________________________________________\n",
      "dense_14 (Dense)             (None, 256)               33024     \n",
      "_________________________________________________________________\n",
      "dense_15 (Dense)             (None, 256)               65792     \n",
      "_________________________________________________________________\n",
      "dense_16 (Dense)             (None, 256)               65792     \n",
      "_________________________________________________________________\n",
      "dense_17 (Dense)             (None, 256)               65792     \n",
      "_________________________________________________________________\n",
      "dense_18 (Dense)             (None, 1)                 257       \n",
      "=================================================================\n",
      "Total params: 249,217\n",
      "Trainable params: 249,217\n",
      "Non-trainable params: 0\n",
      "_________________________________________________________________\n"
     ]
    }
   ],
   "source": [
    "X_train, y_train, X_test, y_test = split_train_test(df, 600, 'simple')\n",
    "\n",
    "verbose = 0 # выводить ли инфу в процессе обучения (на гитхаб лучше не заливать когда verbose > 0, а просто перетренировать с = 0)\n",
    "            # 0 - silence \n",
    "            # 1 - progress bar\n",
    "            # 2 - line per epoch \n",
    "model = create_model(X_train.shape[1])\n",
    "model.compile(optimizer='adam', loss='mean_squared_error', metrics=[coeff_determination])\n",
    "model.summary()\n",
    "history = model.fit(X_train, y_train, validation_split=0.2, epochs=400, verbose=verbose)"
   ]
  },
  {
   "cell_type": "markdown",
   "metadata": {},
   "source": [
    "Вся инфа про обучение лежит в history"
   ]
  },
  {
   "cell_type": "code",
   "execution_count": 104,
   "metadata": {},
   "outputs": [
    {
     "data": {
      "text/plain": [
       "[0.954663671650985,\n",
       " 0.9532649177100376,\n",
       " 0.9533832158201407,\n",
       " 0.9565746234013484,\n",
       " 0.9501687149616835,\n",
       " 0.9580100864227896,\n",
       " 0.9519670936672147,\n",
       " 0.9602311026535607,\n",
       " 0.9531387005693246,\n",
       " 0.9597226503195055]"
      ]
     },
     "execution_count": 104,
     "metadata": {},
     "output_type": "execute_result"
    }
   ],
   "source": [
    "history.history['val_coeff_determination'][-10:]"
   ]
  },
  {
   "cell_type": "markdown",
   "metadata": {},
   "source": [
    "полный аналог r2 метрики определенной выше, но написсаный на numpy (r2 метрика выше возвращяет tensor, что нужно для использования в керасе, но это не удобно чтобы тестить)"
   ]
  },
  {
   "cell_type": "code",
   "execution_count": 105,
   "metadata": {},
   "outputs": [],
   "source": [
    "def np_r2_score(v_true, v_pred):\n",
    "    ssres = np.sum(np.square(v_true - v_pred))\n",
    "    sstot = np.sum(np.square(v_true - np.mean(v_true)))\n",
    "    return 1 - ssres / sstot"
   ]
  },
  {
   "cell_type": "markdown",
   "metadata": {},
   "source": [
    "Следующие три ячейки тут потому что я так хочу "
   ]
  },
  {
   "cell_type": "code",
   "execution_count": 106,
   "metadata": {
    "scrolled": true
   },
   "outputs": [
    {
     "data": {
      "text/plain": [
       "0.9794366494475739"
      ]
     },
     "execution_count": 106,
     "metadata": {},
     "output_type": "execute_result"
    }
   ],
   "source": [
    "y_pred = model.predict(X_test)\n",
    "y_pred.shape = (y_pred.shape[0], )\n",
    "np_r2_score(y_test, y_pred)"
   ]
  },
  {
   "cell_type": "code",
   "execution_count": 107,
   "metadata": {},
   "outputs": [
    {
     "data": {
      "text/plain": [
       "0.32254964346765863"
      ]
     },
     "execution_count": 107,
     "metadata": {},
     "output_type": "execute_result"
    }
   ],
   "source": [
    "(y_test - y_pred).mean()"
   ]
  },
  {
   "cell_type": "code",
   "execution_count": 109,
   "metadata": {},
   "outputs": [
    {
     "name": "stdout",
     "output_type": "stream",
     "text": [
      "600/600 [==============================] - 0s 44us/step\n"
     ]
    },
    {
     "data": {
      "text/plain": [
       "[6.164404322306315, 0.9702041188875834]"
      ]
     },
     "execution_count": 109,
     "metadata": {},
     "output_type": "execute_result"
    }
   ],
   "source": [
    "model.evaluate(X_test, y_test)"
   ]
  },
  {
   "cell_type": "code",
   "execution_count": 124,
   "metadata": {},
   "outputs": [],
   "source": [
    "save_model(model, 979, 'simple')"
   ]
  },
  {
   "cell_type": "markdown",
   "metadata": {},
   "source": [
    "# train model on full dataset"
   ]
  },
  {
   "cell_type": "code",
   "execution_count": 127,
   "metadata": {},
   "outputs": [],
   "source": [
    "def train_full_set(enc='simple', create_model=create_model, epochs=400, verbose=0):\n",
    "    dataset = pd.read_csv('./robot_data/train_data.csv')    \n",
    "    dataset = dataset.drop(columns=['year'])\n",
    "    dataset = dataset.sample(frac=1).reset_index(drop=True)\n",
    "    X_train, y_train, X_test, y_test = split_train_test(dataset, 0, enc)\n",
    "    model = create_model(X_train.shape[1])\n",
    "    model.compile(optimizer='adam', loss='mean_squared_error', metrics=[coeff_determination])\n",
    "    model.fit(X_train, y_train, validation_split=0.2, epochs=epochs, verbose=verbose)\n",
    "    return model "
   ]
  },
  {
   "cell_type": "code",
   "execution_count": 128,
   "metadata": {},
   "outputs": [
    {
     "name": "stdout",
     "output_type": "stream",
     "text": [
      "2663/2663 [==============================] - 0s 50us/step\n"
     ]
    },
    {
     "data": {
      "text/plain": [
       "[2.036161985565879, 0.9900444393940452]"
      ]
     },
     "execution_count": 128,
     "metadata": {},
     "output_type": "execute_result"
    }
   ],
   "source": [
    "model = train_full_set()\n",
    "\n",
    "model.evaluate(X_train, y_train)"
   ]
  },
  {
   "cell_type": "markdown",
   "metadata": {},
   "source": [
    "# try learn not only nn's"
   ]
  },
  {
   "cell_type": "code",
   "execution_count": 135,
   "metadata": {},
   "outputs": [],
   "source": [
    "regressors = [\n",
    "    Lasso(),\n",
    "    ElasticNet(),\n",
    "    DecisionTreeRegressor(),\n",
    "    KNeighborsRegressor(),\n",
    "    GradientBoostingRegressor()]"
   ]
  },
  {
   "cell_type": "code",
   "execution_count": 142,
   "metadata": {},
   "outputs": [],
   "source": [
    "dataset = pd.read_csv('./robot_data/train_data.csv') \n",
    "dataset = dataset.sample(frac=1).reset_index(drop=True)"
   ]
  },
  {
   "cell_type": "markdown",
   "metadata": {},
   "source": [
    "скейлим датасет и сопоставляем значения категориям "
   ]
  },
  {
   "cell_type": "code",
   "execution_count": 143,
   "metadata": {},
   "outputs": [],
   "source": [
    "dataset = simple_encode(dataset)\n",
    "\n",
    "X = dataset.values[0::, :-2:]\n",
    "y = dataset.values[0::, -1]\n",
    "\n",
    "scaler = StandardScaler()\n",
    "\n",
    "X = scaler.fit_transform(X)\n",
    "X = np.c_[(X, dataset.values[0::, -2])]"
   ]
  },
  {
   "cell_type": "code",
   "execution_count": 144,
   "metadata": {},
   "outputs": [
    {
     "data": {
      "text/plain": [
       "<matplotlib.axes._subplots.AxesSubplot at 0x1a3d3e1c18>"
      ]
     },
     "execution_count": 144,
     "metadata": {},
     "output_type": "execute_result"
    },
    {
     "data": {
      "image/png": "[encoded data removed]",
      "text/plain": [
       "<Figure size 432x288 with 1 Axes>"
      ]
     },
     "metadata": {
      "needs_background": "light"
     },
     "output_type": "display_data"
    }
   ],
   "source": [
    "log_cols = [\"Regressor\", \"r2\"]\n",
    "log = pd.DataFrame(columns=log_cols)\n",
    "\n",
    "acc_dict = {}\n",
    "\n",
    "for reg in regressors:\n",
    "    name = reg.__class__.__name__\n",
    "    \n",
    "    acc = cross_validate(reg, X, y, scoring=['r2', 'neg_mean_squared_error'], cv=3, n_jobs=-1)\n",
    "    if name in acc_dict:\n",
    "        acc_dict[name] += acc\n",
    "    else:\n",
    "        acc_dict[name] = acc\n",
    "\n",
    "for reg in acc_dict:\n",
    "    log_entry = pd.DataFrame([[reg, acc_dict[reg]['test_r2'].mean()]], columns=log_cols)\n",
    "    log = log.append(log_entry)\n",
    "\n",
    "plt.xlabel('Accuracy')\n",
    "plt.title('Classifier Accuracy')\n",
    "\n",
    "sns.set_color_codes(\"muted\")\n",
    "sns.barplot(x='r2', y='Regressor', data=log, color=\"b\")"
   ]
  },
  {
   "cell_type": "markdown",
   "metadata": {},
   "source": [
    "# train gradiend boosting regressor"
   ]
  },
  {
   "cell_type": "markdown",
   "metadata": {},
   "source": [
    "Вообще этот регрессор выглядит многообещающе, но я потратил на него уже три попытки и все были с отрицательным r2 -> я както неправильно подготавливаю данные. Скорее всего я где-то неправ со scaler'ом. А мб он прост не работает и не надо тратить на него время"
   ]
  },
  {
   "cell_type": "code",
   "execution_count": 145,
   "metadata": {},
   "outputs": [
    {
     "data": {
      "text/plain": [
       "GradientBoostingRegressor(alpha=0.9, criterion='friedman_mse', init=None,\n",
       "             learning_rate=0.1, loss='ls', max_depth=3, max_features=None,\n",
       "             max_leaf_nodes=None, min_impurity_decrease=0.0,\n",
       "             min_impurity_split=None, min_samples_leaf=1,\n",
       "             min_samples_split=2, min_weight_fraction_leaf=0.0,\n",
       "             n_estimators=100, n_iter_no_change=None, presort='auto',\n",
       "             random_state=None, subsample=1.0, tol=0.0001,\n",
       "             validation_fraction=0.1, verbose=0, warm_start=False)"
      ]
     },
     "execution_count": 145,
     "metadata": {},
     "output_type": "execute_result"
    }
   ],
   "source": [
    "X_train, X_test = X[600:], X[:600]\n",
    "y_train, y_test = y[600:], y[:600]\n",
    "\n",
    "gbr_reg = GradientBoostingRegressor()\n",
    "gbr_reg.fit(X, y)"
   ]
  },
  {
   "cell_type": "code",
   "execution_count": 148,
   "metadata": {},
   "outputs": [],
   "source": [
    "y_preds = gbr_reg.predict(X_test)"
   ]
  },
  {
   "cell_type": "code",
   "execution_count": 149,
   "metadata": {},
   "outputs": [
    {
     "data": {
      "text/plain": [
       "0.9926041262413985"
      ]
     },
     "execution_count": 149,
     "metadata": {},
     "output_type": "execute_result"
    }
   ],
   "source": [
    "gbr_reg.score(X_test, y_test)"
   ]
  },
  {
   "cell_type": "markdown",
   "metadata": {},
   "source": [
    "# Predict on test set"
   ]
  },
  {
   "cell_type": "code",
   "execution_count": 153,
   "metadata": {},
   "outputs": [],
   "source": [
    "def get_preds_on_test(model, enc='simple'):\n",
    "    df = pd.read_csv('./robot_data/test_data.csv')\n",
    "    df = df.drop(columns=['year', 'target'])\n",
    "    \n",
    "    if enc == 'simple':\n",
    "        df = simple_encode(df.copy())\n",
    "        \n",
    "    elif enc == 'onehot':\n",
    "        df = oneHotEncode(df.copy())\n",
    "        \n",
    "    y_pred = model.predict(df)\n",
    "    return y_pred"
   ]
  },
  {
   "cell_type": "markdown",
   "metadata": {},
   "source": [
    "# submit funcion"
   ]
  },
  {
   "cell_type": "code",
   "execution_count": 161,
   "metadata": {},
   "outputs": [],
   "source": [
    "def create_submition(model, enc='simple', subm_name=None):\n",
    "    df = pd.read_csv('./robot_data/test_data.csv')\n",
    "    years = df['year']\n",
    "    \n",
    "    y_pred = get_preds_on_test(model)\n",
    "    y_pred = y_pred.reshape(1000)\n",
    "    \n",
    "    d = {'year': years.values, 'target': y_pred}\n",
    "    ans = pd.DataFrame(d)\n",
    "    ans = ans.set_index('year')\n",
    "    \n",
    "    subm_name = subm_name if subm_name else 'submission_.csv'\n",
    "    ans.to_csv(subm_name)"
   ]
  },
  {
   "cell_type": "code",
   "execution_count": 162,
   "metadata": {},
   "outputs": [],
   "source": [
    "create_submition(model, subm_name='subm_gbr_bad.csv')"
   ]
  },
  {
   "cell_type": "code",
   "execution_count": null,
   "metadata": {},
   "outputs": [],
   "source": []
  }
 ],
 "metadata": {
  "kernelspec": {
   "display_name": "Python 3",
   "language": "python",
   "name": "python3"
  },
  "language_info": {
   "codemirror_mode": {
    "name": "ipython",
    "version": 3
   },
   "file_extension": ".py",
   "mimetype": "text/x-python",
   "name": "python",
   "nbconvert_exporter": "python",
   "pygments_lexer": "ipython3",
   "version": "3.6.6"
  }
 },
 "nbformat": 4,
 "nbformat_minor": 2
}

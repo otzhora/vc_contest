{
 "cells": [
  {
   "cell_type": "code",
   "execution_count": 1,
   "metadata": {},
   "outputs": [
    {
     "name": "stderr",
     "output_type": "stream",
     "text": [
      "Using TensorFlow backend.\n"
     ]
    }
   ],
   "source": [
    "import pandas as pd\n",
    "import numpy as np\n",
    "from keras.models import Sequential\n",
    "from keras.layers import Dense, Dropout\n",
    "\n",
    "import json \n",
    "\n",
    "\n",
    "from sklearn.metrics import accuracy_score, log_loss, r2_score\n",
    "from sklearn.linear_model import LinearRegression\n",
    "from sklearn.linear_model import Lasso\n",
    "from sklearn.linear_model import ElasticNet\n",
    "from sklearn.tree import DecisionTreeRegressor\n",
    "from sklearn.neighbors import KNeighborsRegressor\n",
    "from sklearn.ensemble import GradientBoostingRegressor\n",
    "\n",
    "import matplotlib.pyplot as plt\n",
    "import seaborn as sns\n",
    "\n",
    "from joblib import parallel_backend\n",
    "from sklearn.model_selection import cross_validate\n",
    "from sklearn.preprocessing import StandardScaler\n"
   ]
  },
  {
   "cell_type": "code",
   "execution_count": 2,
   "metadata": {},
   "outputs": [],
   "source": [
    "df = pd.read_csv('robot_data/train_data.csv')"
   ]
  },
  {
   "cell_type": "code",
   "execution_count": 3,
   "metadata": {},
   "outputs": [],
   "source": [
    "df.drop(columns=['year'], inplace=True)"
   ]
  },
  {
   "cell_type": "markdown",
   "metadata": {},
   "source": [
    "## Shuffle dataset "
   ]
  },
  {
   "cell_type": "code",
   "execution_count": 4,
   "metadata": {
    "scrolled": true
   },
   "outputs": [
    {
     "data": {
      "text/html": [
       "<div>\n",
       "<style scoped>\n",
       "    .dataframe tbody tr th:only-of-type {\n",
       "        vertical-align: middle;\n",
       "    }\n",
       "\n",
       "    .dataframe tbody tr th {\n",
       "        vertical-align: top;\n",
       "    }\n",
       "\n",
       "    .dataframe thead th {\n",
       "        text-align: right;\n",
       "    }\n",
       "</style>\n",
       "<table border=\"1\" class=\"dataframe\">\n",
       "  <thead>\n",
       "    <tr style=\"text-align: right;\">\n",
       "      <th></th>\n",
       "      <th>robot_gear_compression_diff_1</th>\n",
       "      <th>weapon_robot_armour_index_2</th>\n",
       "      <th>robot_gear_compression_diff_3</th>\n",
       "      <th>robot_gear_compression_diff_4</th>\n",
       "      <th>weapon_robot_punch_right_1</th>\n",
       "      <th>robot_gear_compression_diff_6</th>\n",
       "      <th>robot_gear_compression_diff_7</th>\n",
       "      <th>robot_gear_compression_diff_8</th>\n",
       "      <th>robot_gear_compression_diff_9</th>\n",
       "      <th>robot_gear_compression_diff_10</th>\n",
       "      <th>...</th>\n",
       "      <th>robot_probe_temperature_5</th>\n",
       "      <th>robot_probe_temperature_6</th>\n",
       "      <th>robot_probe_temperature_7</th>\n",
       "      <th>robot_probe_temperature_8</th>\n",
       "      <th>robot_probe_temperature_9</th>\n",
       "      <th>weapon_robot_eye_laser_range_1</th>\n",
       "      <th>weapon_robot_punch_left_4</th>\n",
       "      <th>weapon_robot_punch_left_2</th>\n",
       "      <th>gamma_ray</th>\n",
       "      <th>target</th>\n",
       "    </tr>\n",
       "  </thead>\n",
       "  <tbody>\n",
       "    <tr>\n",
       "      <th>0</th>\n",
       "      <td>-0.283534</td>\n",
       "      <td>-0.837881</td>\n",
       "      <td>-3.597984</td>\n",
       "      <td>-16.554849</td>\n",
       "      <td>-11.389089</td>\n",
       "      <td>0.313589</td>\n",
       "      <td>-3.383178</td>\n",
       "      <td>-3.888150</td>\n",
       "      <td>-41.686393</td>\n",
       "      <td>-8.679487</td>\n",
       "      <td>...</td>\n",
       "      <td>5.967009</td>\n",
       "      <td>3.982668</td>\n",
       "      <td>1.174039</td>\n",
       "      <td>2.875162</td>\n",
       "      <td>1.261036</td>\n",
       "      <td>1.075103</td>\n",
       "      <td>-0.647793</td>\n",
       "      <td>-7.049394</td>\n",
       "      <td>moderate</td>\n",
       "      <td>-2.316919</td>\n",
       "    </tr>\n",
       "    <tr>\n",
       "      <th>1</th>\n",
       "      <td>-5.142603</td>\n",
       "      <td>-6.924267</td>\n",
       "      <td>-5.764813</td>\n",
       "      <td>8.312981</td>\n",
       "      <td>-18.293047</td>\n",
       "      <td>-6.217982</td>\n",
       "      <td>-12.931946</td>\n",
       "      <td>-7.927816</td>\n",
       "      <td>27.126724</td>\n",
       "      <td>-11.829680</td>\n",
       "      <td>...</td>\n",
       "      <td>9.444724</td>\n",
       "      <td>4.856028</td>\n",
       "      <td>-2.257161</td>\n",
       "      <td>3.229065</td>\n",
       "      <td>1.408525</td>\n",
       "      <td>1.305627</td>\n",
       "      <td>8.870408</td>\n",
       "      <td>-0.643271</td>\n",
       "      <td>high</td>\n",
       "      <td>-4.803426</td>\n",
       "    </tr>\n",
       "    <tr>\n",
       "      <th>2</th>\n",
       "      <td>-4.848547</td>\n",
       "      <td>-4.995010</td>\n",
       "      <td>-7.226481</td>\n",
       "      <td>-10.701620</td>\n",
       "      <td>-19.433779</td>\n",
       "      <td>-2.741447</td>\n",
       "      <td>-7.059371</td>\n",
       "      <td>-7.322945</td>\n",
       "      <td>-25.596221</td>\n",
       "      <td>-12.577888</td>\n",
       "      <td>...</td>\n",
       "      <td>4.949442</td>\n",
       "      <td>3.990456</td>\n",
       "      <td>0.198023</td>\n",
       "      <td>3.106897</td>\n",
       "      <td>2.477999</td>\n",
       "      <td>1.437429</td>\n",
       "      <td>10.733607</td>\n",
       "      <td>-6.703117</td>\n",
       "      <td>high</td>\n",
       "      <td>-8.582892</td>\n",
       "    </tr>\n",
       "    <tr>\n",
       "      <th>3</th>\n",
       "      <td>9.869959</td>\n",
       "      <td>7.545168</td>\n",
       "      <td>2.551952</td>\n",
       "      <td>-17.619413</td>\n",
       "      <td>-2.619880</td>\n",
       "      <td>2.451828</td>\n",
       "      <td>1.046444</td>\n",
       "      <td>-7.585662</td>\n",
       "      <td>-46.879829</td>\n",
       "      <td>6.168043</td>\n",
       "      <td>...</td>\n",
       "      <td>-32.464548</td>\n",
       "      <td>-13.233923</td>\n",
       "      <td>2.084878</td>\n",
       "      <td>3.155285</td>\n",
       "      <td>1.556361</td>\n",
       "      <td>1.596260</td>\n",
       "      <td>-11.369326</td>\n",
       "      <td>-198.627120</td>\n",
       "      <td>moderate</td>\n",
       "      <td>-13.795526</td>\n",
       "    </tr>\n",
       "    <tr>\n",
       "      <th>4</th>\n",
       "      <td>14.104006</td>\n",
       "      <td>15.290944</td>\n",
       "      <td>14.629884</td>\n",
       "      <td>1.226133</td>\n",
       "      <td>29.296182</td>\n",
       "      <td>10.653833</td>\n",
       "      <td>15.296214</td>\n",
       "      <td>8.833471</td>\n",
       "      <td>-32.645455</td>\n",
       "      <td>30.281082</td>\n",
       "      <td>...</td>\n",
       "      <td>3.692965</td>\n",
       "      <td>2.991953</td>\n",
       "      <td>2.221670</td>\n",
       "      <td>3.401771</td>\n",
       "      <td>2.434549</td>\n",
       "      <td>2.023328</td>\n",
       "      <td>-11.648547</td>\n",
       "      <td>77.482138</td>\n",
       "      <td>low</td>\n",
       "      <td>16.475245</td>\n",
       "    </tr>\n",
       "  </tbody>\n",
       "</table>\n",
       "<p>5 rows × 145 columns</p>\n",
       "</div>"
      ],
      "text/plain": [
       "   robot_gear_compression_diff_1  weapon_robot_armour_index_2  \\\n",
       "0                      -0.283534                    -0.837881   \n",
       "1                      -5.142603                    -6.924267   \n",
       "2                      -4.848547                    -4.995010   \n",
       "3                       9.869959                     7.545168   \n",
       "4                      14.104006                    15.290944   \n",
       "\n",
       "   robot_gear_compression_diff_3  robot_gear_compression_diff_4  \\\n",
       "0                      -3.597984                     -16.554849   \n",
       "1                      -5.764813                       8.312981   \n",
       "2                      -7.226481                     -10.701620   \n",
       "3                       2.551952                     -17.619413   \n",
       "4                      14.629884                       1.226133   \n",
       "\n",
       "   weapon_robot_punch_right_1  robot_gear_compression_diff_6  \\\n",
       "0                  -11.389089                       0.313589   \n",
       "1                  -18.293047                      -6.217982   \n",
       "2                  -19.433779                      -2.741447   \n",
       "3                   -2.619880                       2.451828   \n",
       "4                   29.296182                      10.653833   \n",
       "\n",
       "   robot_gear_compression_diff_7  robot_gear_compression_diff_8  \\\n",
       "0                      -3.383178                      -3.888150   \n",
       "1                     -12.931946                      -7.927816   \n",
       "2                      -7.059371                      -7.322945   \n",
       "3                       1.046444                      -7.585662   \n",
       "4                      15.296214                       8.833471   \n",
       "\n",
       "   robot_gear_compression_diff_9  robot_gear_compression_diff_10    ...      \\\n",
       "0                     -41.686393                       -8.679487    ...       \n",
       "1                      27.126724                      -11.829680    ...       \n",
       "2                     -25.596221                      -12.577888    ...       \n",
       "3                     -46.879829                        6.168043    ...       \n",
       "4                     -32.645455                       30.281082    ...       \n",
       "\n",
       "   robot_probe_temperature_5  robot_probe_temperature_6  \\\n",
       "0                   5.967009                   3.982668   \n",
       "1                   9.444724                   4.856028   \n",
       "2                   4.949442                   3.990456   \n",
       "3                 -32.464548                 -13.233923   \n",
       "4                   3.692965                   2.991953   \n",
       "\n",
       "   robot_probe_temperature_7  robot_probe_temperature_8  \\\n",
       "0                   1.174039                   2.875162   \n",
       "1                  -2.257161                   3.229065   \n",
       "2                   0.198023                   3.106897   \n",
       "3                   2.084878                   3.155285   \n",
       "4                   2.221670                   3.401771   \n",
       "\n",
       "   robot_probe_temperature_9  weapon_robot_eye_laser_range_1  \\\n",
       "0                   1.261036                        1.075103   \n",
       "1                   1.408525                        1.305627   \n",
       "2                   2.477999                        1.437429   \n",
       "3                   1.556361                        1.596260   \n",
       "4                   2.434549                        2.023328   \n",
       "\n",
       "   weapon_robot_punch_left_4  weapon_robot_punch_left_2  gamma_ray     target  \n",
       "0                  -0.647793                  -7.049394   moderate  -2.316919  \n",
       "1                   8.870408                  -0.643271       high  -4.803426  \n",
       "2                  10.733607                  -6.703117       high  -8.582892  \n",
       "3                 -11.369326                -198.627120   moderate -13.795526  \n",
       "4                 -11.648547                  77.482138        low  16.475245  \n",
       "\n",
       "[5 rows x 145 columns]"
      ]
     },
     "execution_count": 4,
     "metadata": {},
     "output_type": "execute_result"
    }
   ],
   "source": [
    "df = df.sample(frac=1).reset_index(drop=True)\n",
    "df.head()"
   ]
  },
  {
   "cell_type": "markdown",
   "metadata": {},
   "source": [
    "В этом датасете есть только 1 категориальная фича, которую мы можем кодировать или через onehot или прост сопоставить каждому значению чилсо"
   ]
  },
  {
   "cell_type": "markdown",
   "metadata": {},
   "source": [
    "## encode cat features with oneHotEncoder"
   ]
  },
  {
   "cell_type": "code",
   "execution_count": 5,
   "metadata": {
    "scrolled": true
   },
   "outputs": [],
   "source": [
    "def oneHotEncode(df,colNames):\n",
    "    for col in colNames:\n",
    "        if( df[col].dtype == np.dtype('object')):\n",
    "            dummies = pd.get_dummies(df[col],prefix=col)\n",
    "            df = pd.concat([df,dummies],axis=1)\n",
    "\n",
    "            #drop the encoded column\n",
    "            df.drop([col],axis = 1 , inplace=True)\n",
    "    return df\n",
    "\n",
    "# df_oh = oneHotEncode(df, ['gamma_ray'])\n",
    "# df_oh.head()"
   ]
  },
  {
   "cell_type": "markdown",
   "metadata": {},
   "source": [
    "## encode cat fetures with simple encoder "
   ]
  },
  {
   "cell_type": "code",
   "execution_count": 6,
   "metadata": {},
   "outputs": [],
   "source": [
    "def simple_encode(df, encode_map=None):\n",
    "    if not encode_map:\n",
    "        encode_map = {'low': 0.25, 'moderate': 0.5, 'high': 0.75, 'very high': 1}\n",
    "\n",
    "    df['gamma_ray'] = df['gamma_ray'].map(encode_map)\n",
    "    return df\n",
    "\n",
    "\n",
    "# df_sim = simple_encode(df)\n",
    "# df_sim.head()"
   ]
  },
  {
   "cell_type": "markdown",
   "metadata": {},
   "source": [
    "Мы можем засплитить наш размеченный датасет на сет для тренировки и сет для теста модели "
   ]
  },
  {
   "cell_type": "code",
   "execution_count": 7,
   "metadata": {},
   "outputs": [],
   "source": [
    "# сплит не в процентах, а в количестве семплов потому что бибу соси\n",
    "\n",
    "def split_train_test(df, split=600, enc_type='simple'):\n",
    "    if enc_type == 'simple':\n",
    "        df_ = simple_encode(df.copy())\n",
    "        X_train, y_train= df_.iloc[split:].drop(columns=['target'], inplace=False), df_.iloc[split:]['target']\n",
    "        X_test, y_test = df_.iloc[:split].drop(columns=['target'], inplace=False), df_.iloc[:split]['target']\n",
    "    elif enc_type == 'onehot':\n",
    "        df_ = oneHotEncode(df.copy(), ['gamma_ray'])\n",
    "        X_train, y_train = df_.iloc[split:].drop(columns=['target'], inplace=False), df_.iloc[split:]['target']\n",
    "        X_test, y_test = df_.iloc[:split].drop(columns=['target'], inplace=False), df_.iloc[:split]['target']\n",
    "\n",
    "    return X_train, y_train, X_test, y_test\n",
    "\n",
    "# X_train, y_train, X_test, y_test = split_train_test(df, 600, 'simple')"
   ]
  },
  {
   "cell_type": "markdown",
   "metadata": {},
   "source": [
    "# Save model"
   ]
  },
  {
   "cell_type": "code",
   "execution_count": 8,
   "metadata": {},
   "outputs": [],
   "source": [
    "# настятельно рекомендую юзать поле enc (на каком энкодере обучалась)\n",
    "# acc ввеодить без точки, eg: r2 = 0.979 => acc = 979\n",
    "def save_model(model, acc, enc=''):\n",
    "    json_arch = model.to_json()\n",
    "    if enc:\n",
    "        model.save('./models/model_{}_{}.h5'.format(acc, enc))\n",
    "        with open('./arch/model_{}_{}.json'.format(acc, enc), 'w') as out:\n",
    "            out.write(json_arch)\n",
    "    else:\n",
    "        model.save('./models/model_{}.h5'.format(acc))\n",
    "        with open('./arch/model_{}.json'.format(acc), 'w') as out:\n",
    "            out.write(json_arch)"
   ]
  },
  {
   "cell_type": "markdown",
   "metadata": {},
   "source": [
    "## Train mlp "
   ]
  },
  {
   "cell_type": "markdown",
   "metadata": {},
   "source": [
    "Создавать все модели меняя эту функцию не самая лучшая идея, поэтому когда делаете новую модель лучше всего написать новую функцию аналагичную этой (да и вообще лучше целую секцию)"
   ]
  },
  {
   "cell_type": "code",
   "execution_count": 9,
   "metadata": {},
   "outputs": [],
   "source": [
    "def create_model(n_cols):\n",
    "    model = Sequential()\n",
    "\n",
    "    model.add(Dense(128, activation='relu', input_shape=(n_cols,), kernel_initializer='normal'))\n",
    "    model.add(Dense(256, activation='relu', kernel_initializer='normal'))\n",
    "    model.add(Dense(256, activation='relu', kernel_initializer='normal'))\n",
    "    model.add(Dense(256, activation='relu', kernel_initializer='normal'))\n",
    "    model.add(Dense(256, activation='relu', kernel_initializer='normal'))\n",
    "    model.add(Dense(1, activation='linear'))\n",
    "    return model"
   ]
  },
  {
   "cell_type": "markdown",
   "metadata": {},
   "source": [
    "r2 metric \n",
    "\n",
    "${R^2 = \\frac{\\sum{(y_i - \\hat{y_i})^2}}{\\sum{(y_i - \\bar{y})^2}}}$\n",
    "\n",
    "${\\hat{y_i}}$ -- предсказанное значение \n",
    "${\\bar{y}}$ -- среднее значение "
   ]
  },
  {
   "cell_type": "code",
   "execution_count": 10,
   "metadata": {},
   "outputs": [],
   "source": [
    "def coeff_determination(y_true, y_pred):\n",
    "    from keras import backend as K\n",
    "    SS_res =  K.sum(K.square( y_true-y_pred ))\n",
    "    SS_tot = K.sum(K.square( y_true - K.mean(y_true) ) )\n",
    "    return ( 1 - SS_res/(SS_tot + K.epsilon()) )"
   ]
  },
  {
   "cell_type": "code",
   "execution_count": null,
   "metadata": {},
   "outputs": [],
   "source": [
    "X_train, y_train, X_test, y_test = split_train_test(df, 600, 'simple')\n",
    "\n",
    "verbose = 0 # выводить ли инфу в процессе обучения (на гитхаб лучше не заливать когда verbose > 0, а просто перетренировать с = 0, ну или если это долго то перед комитом очистить оутпуты)\n",
    "            # 0 - silence \n",
    "            # 1 - progress bar\n",
    "            # 2 - line per epoch \n",
    "model = create_model(X_train.shape[1])\n",
    "model.compile(optimizer='adam', loss='mean_squared_error', metrics=[coeff_determination])\n",
    "model.summary()\n",
    "history = model.fit(X_train, y_train, validation_split=0.2, epochs=400, verbose=verbose)"
   ]
  },
  {
   "cell_type": "markdown",
   "metadata": {},
   "source": [
    "Вся инфа про обучение лежит в history"
   ]
  },
  {
   "cell_type": "code",
   "execution_count": 104,
   "metadata": {},
   "outputs": [
    {
     "data": {
      "text/plain": [
       "[0.954663671650985,\n",
       " 0.9532649177100376,\n",
       " 0.9533832158201407,\n",
       " 0.9565746234013484,\n",
       " 0.9501687149616835,\n",
       " 0.9580100864227896,\n",
       " 0.9519670936672147,\n",
       " 0.9602311026535607,\n",
       " 0.9531387005693246,\n",
       " 0.9597226503195055]"
      ]
     },
     "execution_count": 104,
     "metadata": {},
     "output_type": "execute_result"
    }
   ],
   "source": [
    "history.history['val_coeff_determination'][-10:]"
   ]
  },
  {
   "cell_type": "markdown",
   "metadata": {},
   "source": [
    "полный аналог r2 метрики определенной выше, но написсаный на numpy (r2 метрика выше возвращяет tensor, что нужно для использования в керасе, но это не удобно чтобы тестить)"
   ]
  },
  {
   "cell_type": "code",
   "execution_count": 12,
   "metadata": {},
   "outputs": [],
   "source": [
    "def np_r2_score(v_true, v_pred):\n",
    "    ssres = np.sum(np.square(v_true - v_pred))\n",
    "    sstot = np.sum(np.square(v_true - np.mean(v_true)))\n",
    "    return 1 - ssres / sstot"
   ]
  },
  {
   "cell_type": "markdown",
   "metadata": {},
   "source": [
    "Следующие три ячейки тут потому что я так хочу "
   ]
  },
  {
   "cell_type": "code",
   "execution_count": 13,
   "metadata": {
    "scrolled": true
   },
   "outputs": [
    {
     "data": {
      "text/plain": [
       "0.9620511907304891"
      ]
     },
     "execution_count": 13,
     "metadata": {},
     "output_type": "execute_result"
    }
   ],
   "source": [
    "y_pred = model.predict(X_test)\n",
    "y_pred.shape = (y_pred.shape[0], )\n",
    "np_r2_score(y_test, y_pred)"
   ]
  },
  {
   "cell_type": "code",
   "execution_count": 14,
   "metadata": {},
   "outputs": [
    {
     "data": {
      "text/plain": [
       "0.23052085471795541"
      ]
     },
     "execution_count": 14,
     "metadata": {},
     "output_type": "execute_result"
    }
   ],
   "source": [
    "(y_test - y_pred).mean()"
   ]
  },
  {
   "cell_type": "code",
   "execution_count": 15,
   "metadata": {},
   "outputs": [
    {
     "name": "stdout",
     "output_type": "stream",
     "text": [
      "600/600 [==============================] - 0s 67us/step\n"
     ]
    },
    {
     "data": {
      "text/plain": [
       "[12.936997877756754, 0.9407667374610901]"
      ]
     },
     "execution_count": 15,
     "metadata": {},
     "output_type": "execute_result"
    }
   ],
   "source": [
    "model.evaluate(X_test, y_test)"
   ]
  },
  {
   "cell_type": "code",
   "execution_count": 16,
   "metadata": {},
   "outputs": [],
   "source": [
    "save_model(model, 940, 'simple')"
   ]
  },
  {
   "cell_type": "markdown",
   "metadata": {},
   "source": [
    "# train model on full dataset"
   ]
  },
  {
   "cell_type": "code",
   "execution_count": 18,
   "metadata": {},
   "outputs": [],
   "source": [
    "def train_full_set(enc='simple', create_model=create_model, epochs=400, verbose=0):\n",
    "    dataset = pd.read_csv('./robot_data/train_data.csv')    \n",
    "    dataset = dataset.drop(columns=['year'])\n",
    "    dataset = dataset.sample(frac=1).reset_index(drop=True)\n",
    "    X_train, y_train, X_test, y_test = split_train_test(dataset, 0, enc)\n",
    "    model = create_model(X_train.shape[1])\n",
    "    model.compile(optimizer='adam', loss='mean_squared_error', metrics=[coeff_determination])\n",
    "    model.fit(X_train, y_train, validation_split=0.2, epochs=epochs, verbose=verbose)\n",
    "    return model "
   ]
  },
  {
   "cell_type": "code",
   "execution_count": 19,
   "metadata": {},
   "outputs": [],
   "source": [
    "model = train_full_set()\n",
    "\n",
    "#model.evaluate(X_train, y_train)"
   ]
  },
  {
   "cell_type": "markdown",
   "metadata": {},
   "source": [
    "# try learn not only nn's"
   ]
  },
  {
   "cell_type": "code",
   "execution_count": 135,
   "metadata": {},
   "outputs": [],
   "source": [
    "regressors = [\n",
    "    Lasso(),\n",
    "    ElasticNet(),\n",
    "    DecisionTreeRegressor(),\n",
    "    KNeighborsRegressor(),\n",
    "    GradientBoostingRegressor()]"
   ]
  },
  {
   "cell_type": "code",
   "execution_count": 142,
   "metadata": {},
   "outputs": [],
   "source": [
    "dataset = pd.read_csv('./robot_data/train_data.csv') \n",
    "dataset = dataset.sample(frac=1).reset_index(drop=True)"
   ]
  },
  {
   "cell_type": "markdown",
   "metadata": {},
   "source": [
    "скейлим датасет и сопоставляем значения категориям "
   ]
  },
  {
   "cell_type": "code",
   "execution_count": 143,
   "metadata": {},
   "outputs": [],
   "source": [
    "dataset = simple_encode(dataset)\n",
    "\n",
    "X = dataset.values[0::, :-2:]\n",
    "y = dataset.values[0::, -1]\n",
    "\n",
    "scaler = StandardScaler()\n",
    "\n",
    "X = scaler.fit_transform(X)\n",
    "X = np.c_[(X, dataset.values[0::, -2])]"
   ]
  },
  {
   "cell_type": "code",
   "execution_count": 144,
   "metadata": {},
   "outputs": [
    {
     "data": {
      "text/plain": [
       "<matplotlib.axes._subplots.AxesSubplot at 0x1a3d3e1c18>"
      ]
     },
     "execution_count": 144,
     "metadata": {},
     "output_type": "execute_result"
    },
    {
     "data": {
      "image/png": "[encoded data removed]",
      "text/plain": [
       "<Figure size 432x288 with 1 Axes>"
      ]
     },
     "metadata": {
      "needs_background": "light"
     },
     "output_type": "display_data"
    }
   ],
   "source": [
    "log_cols = [\"Regressor\", \"r2\"]\n",
    "log = pd.DataFrame(columns=log_cols)\n",
    "\n",
    "acc_dict = {}\n",
    "\n",
    "for reg in regressors:\n",
    "    name = reg.__class__.__name__\n",
    "    \n",
    "    acc = cross_validate(reg, X, y, scoring=['r2', 'neg_mean_squared_error'], cv=3, n_jobs=-1)\n",
    "    if name in acc_dict:\n",
    "        acc_dict[name] += acc\n",
    "    else:\n",
    "        acc_dict[name] = acc\n",
    "\n",
    "for reg in acc_dict:\n",
    "    log_entry = pd.DataFrame([[reg, acc_dict[reg]['test_r2'].mean()]], columns=log_cols)\n",
    "    log = log.append(log_entry)\n",
    "\n",
    "plt.xlabel('Accuracy')\n",
    "plt.title('Classifier Accuracy')\n",
    "\n",
    "sns.set_color_codes(\"muted\")\n",
    "sns.barplot(x='r2', y='Regressor', data=log, color=\"b\")"
   ]
  },
  {
   "cell_type": "markdown",
   "metadata": {},
   "source": [
    "# train gradiend boosting regressor"
   ]
  },
  {
   "cell_type": "markdown",
   "metadata": {},
   "source": [
    "Вообще этот регрессор выглядит многообещающе, но я потратил на него уже три попытки и все были с отрицательным r2 -> я както неправильно подготавливаю данные. Скорее всего я где-то неправ со scaler'ом. А мб он прост не работает и не надо тратить на него время"
   ]
  },
  {
   "cell_type": "code",
   "execution_count": 145,
   "metadata": {},
   "outputs": [
    {
     "data": {
      "text/plain": [
       "GradientBoostingRegressor(alpha=0.9, criterion='friedman_mse', init=None,\n",
       "             learning_rate=0.1, loss='ls', max_depth=3, max_features=None,\n",
       "             max_leaf_nodes=None, min_impurity_decrease=0.0,\n",
       "             min_impurity_split=None, min_samples_leaf=1,\n",
       "             min_samples_split=2, min_weight_fraction_leaf=0.0,\n",
       "             n_estimators=100, n_iter_no_change=None, presort='auto',\n",
       "             random_state=None, subsample=1.0, tol=0.0001,\n",
       "             validation_fraction=0.1, verbose=0, warm_start=False)"
      ]
     },
     "execution_count": 145,
     "metadata": {},
     "output_type": "execute_result"
    }
   ],
   "source": [
    "X_train, X_test = X[600:], X[:600]\n",
    "y_train, y_test = y[600:], y[:600]\n",
    "\n",
    "gbr_reg = GradientBoostingRegressor()\n",
    "gbr_reg.fit(X, y)"
   ]
  },
  {
   "cell_type": "code",
   "execution_count": 148,
   "metadata": {},
   "outputs": [],
   "source": [
    "y_preds = gbr_reg.predict(X_test)"
   ]
  },
  {
   "cell_type": "code",
   "execution_count": 149,
   "metadata": {},
   "outputs": [
    {
     "data": {
      "text/plain": [
       "0.9926041262413985"
      ]
     },
     "execution_count": 149,
     "metadata": {},
     "output_type": "execute_result"
    }
   ],
   "source": [
    "gbr_reg.score(X_test, y_test)"
   ]
  },
  {
   "cell_type": "markdown",
   "metadata": {},
   "source": [
    "# Train mlp w\\ dropout"
   ]
  },
  {
   "cell_type": "code",
   "execution_count": 28,
   "metadata": {},
   "outputs": [],
   "source": [
    "\n",
    "def create_dropout_model(n_cols):\n",
    "    model = Sequential()\n",
    "\n",
    "    model.add(Dense(256, activation='relu', input_shape=(n_cols,), kernel_initializer='normal'))\n",
    "    model.add(Dropout(0.2))\n",
    "    model.add(Dense(512, activation='relu', kernel_initializer='normal'))\n",
    "    model.add(Dropout(0.2))\n",
    "    model.add(Dense(512, activation='relu', kernel_initializer='normal'))\n",
    "    model.add(Dropout(0.2))\n",
    "    model.add(Dense(512, activation='relu', kernel_initializer='normal'))\n",
    "    model.add(Dropout(0.2))\n",
    "    model.add(Dense(256, activation='relu', kernel_initializer='normal'))\n",
    "    model.add(Dense(1, activation='linear'))\n",
    "    return model"
   ]
  },
  {
   "cell_type": "code",
   "execution_count": 30,
   "metadata": {},
   "outputs": [
    {
     "name": "stdout",
     "output_type": "stream",
     "text": [
      "_________________________________________________________________\n",
      "Layer (type)                 Output Shape              Param #   \n",
      "=================================================================\n",
      "dense_19 (Dense)             (None, 256)               37120     \n",
      "_________________________________________________________________\n",
      "dropout_5 (Dropout)          (None, 256)               0         \n",
      "_________________________________________________________________\n",
      "dense_20 (Dense)             (None, 512)               131584    \n",
      "_________________________________________________________________\n",
      "dropout_6 (Dropout)          (None, 512)               0         \n",
      "_________________________________________________________________\n",
      "dense_21 (Dense)             (None, 512)               262656    \n",
      "_________________________________________________________________\n",
      "dropout_7 (Dropout)          (None, 512)               0         \n",
      "_________________________________________________________________\n",
      "dense_22 (Dense)             (None, 512)               262656    \n",
      "_________________________________________________________________\n",
      "dropout_8 (Dropout)          (None, 512)               0         \n",
      "_________________________________________________________________\n",
      "dense_23 (Dense)             (None, 256)               131328    \n",
      "_________________________________________________________________\n",
      "dense_24 (Dense)             (None, 1)                 257       \n",
      "=================================================================\n",
      "Total params: 825,601\n",
      "Trainable params: 825,601\n",
      "Non-trainable params: 0\n",
      "_________________________________________________________________\n"
     ]
    }
   ],
   "source": [
    "X_train, y_train, X_test, y_test = split_train_test(df, 600, 'simple')\n",
    "\n",
    "verbose = 0 # выводить ли инфу в процессе обучения (на гитхаб лучше не заливать когда verbose > 0, а просто перетренировать с = 0)\n",
    "            # 0 - silence \n",
    "            # 1 - progress bar\n",
    "            # 2 - line per epoch \n",
    "model = create_dropout_model(X_train.shape[1])\n",
    "model.compile(optimizer='adam', loss='mean_squared_error', metrics=[coeff_determination])\n",
    "model.summary()\n",
    "history = model.fit(X_train, y_train, validation_split=0.2, epochs=400, verbose=verbose)"
   ]
  },
  {
   "cell_type": "code",
   "execution_count": 31,
   "metadata": {},
   "outputs": [
    {
     "name": "stdout",
     "output_type": "stream",
     "text": [
      "600/600 [==============================] - 0s 83us/step\n"
     ]
    },
    {
     "data": {
      "text/plain": [
       "[68.91406753540039, 0.6779361319541931]"
      ]
     },
     "execution_count": 31,
     "metadata": {},
     "output_type": "execute_result"
    }
   ],
   "source": [
    "model.evaluate(X_test, y_test)"
   ]
  },
  {
   "cell_type": "code",
   "execution_count": null,
   "metadata": {},
   "outputs": [],
   "source": []
  },
  {
   "cell_type": "markdown",
   "metadata": {},
   "source": [
    "# Predict on test set"
   ]
  },
  {
   "cell_type": "code",
   "execution_count": 24,
   "metadata": {},
   "outputs": [],
   "source": [
    "def get_preds_on_test(model, enc='simple'):\n",
    "    df = pd.read_csv('./robot_data/test_data.csv')\n",
    "    df = df.drop(columns=['year', 'target'])\n",
    "    \n",
    "    if enc == 'simple':\n",
    "        df = simple_encode(df.copy())\n",
    "        \n",
    "    elif enc == 'onehot':\n",
    "        df = oneHotEncode(df.copy())\n",
    "        \n",
    "    y_pred = model.predict(df)\n",
    "    return y_pred"
   ]
  },
  {
   "cell_type": "markdown",
   "metadata": {},
   "source": [
    "# submit funcion"
   ]
  },
  {
   "cell_type": "code",
   "execution_count": 25,
   "metadata": {},
   "outputs": [],
   "source": [
    "def create_submition(model, enc='simple', subm_name=None):\n",
    "    df = pd.read_csv('./robot_data/test_data.csv')\n",
    "    years = df['year']\n",
    "    \n",
    "    y_pred = get_preds_on_test(model)\n",
    "    y_pred = y_pred.reshape(1000)\n",
    "    \n",
    "    d = {'year': years.values, 'target': y_pred}\n",
    "    ans = pd.DataFrame(d)\n",
    "    ans = ans.set_index('year')\n",
    "    \n",
    "    subm_name = subm_name if subm_name else 'submission_.csv'\n",
    "    ans.to_csv(subm_name)"
   ]
  },
  {
   "cell_type": "code",
   "execution_count": 26,
   "metadata": {},
   "outputs": [],
   "source": [
    "create_submition(model, subm_name='./submissions/subm_mlp_full_set.csv')"
   ]
  },
  {
   "cell_type": "code",
   "execution_count": null,
   "metadata": {},
   "outputs": [],
   "source": []
  }
 ],
 "metadata": {
  "kernelspec": {
   "display_name": "Python 3",
   "language": "python",
   "name": "python3"
  },
  "language_info": {
   "codemirror_mode": {
    "name": "ipython",
    "version": 3
   },
   "file_extension": ".py",
   "mimetype": "text/x-python",
   "name": "python",
   "nbconvert_exporter": "python",
   "pygments_lexer": "ipython3",
   "version": "3.5.2"
  }
 },
 "nbformat": 4,
 "nbformat_minor": 2
}
